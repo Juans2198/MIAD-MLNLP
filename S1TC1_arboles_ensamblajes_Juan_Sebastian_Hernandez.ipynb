{
 "cells": [
  {
   "cell_type": "markdown",
   "metadata": {},
   "source": [
    "![image info](https://raw.githubusercontent.com/albahnsen/MIAD_ML_and_NLP/main/images/banner_1.png)"
   ]
  },
  {
   "cell_type": "markdown",
   "metadata": {},
   "source": [
    "# Taller: Construcción e implementación de árboles de decisión y métodos de ensamblaje\n",
    "\n",
    "En este taller podrá poner en práctica los sus conocimientos sobre construcción e implementación de árboles de decisión y métodos de ensamblajes. El taller está constituido por 9 puntos, 5 relacionados con árboles de decisión (parte A) y 4 con métodos de ensamblaje (parte B)."
   ]
  },
  {
   "cell_type": "markdown",
   "metadata": {},
   "source": [
    "## Parte A - Árboles de decisión\n",
    "\n",
    "En esta parte del taller se usará el conjunto de datos de Capital Bikeshare de Kaggle, donde cada observación representa el alquiler de bicicletas durante una hora y día determinado. Para más detalles puede visitar los siguientes enlaces: [datos](https://archive.ics.uci.edu/ml/machine-learning-databases/00275/Bike-Sharing-Dataset.zip), [dicccionario de datos](https://archive.ics.uci.edu/ml/datasets/Bike+Sharing+Dataset#)."
   ]
  },
  {
   "cell_type": "markdown",
   "metadata": {},
   "source": [
    "### Datos prestamo de bicicletas"
   ]
  },
  {
   "cell_type": "code",
   "execution_count": 1,
   "metadata": {},
   "outputs": [],
   "source": [
    "import warnings\n",
    "warnings.filterwarnings('ignore')"
   ]
  },
  {
   "cell_type": "code",
   "execution_count": 83,
   "metadata": {},
   "outputs": [],
   "source": [
    "# Importación de librerías\n",
    "%matplotlib inline\n",
    "import pandas as pd\n",
    "import numpy as np\n",
    "from sklearn.model_selection import cross_val_score\n",
    "from sklearn.linear_model import LinearRegression\n",
    "from sklearn.tree import DecisionTreeRegressor, export_graphviz\n",
    "import matplotlib.pyplot as plt\n",
    "import seaborn as sns\n",
    "from sklearn.model_selection import train_test_split"
   ]
  },
  {
   "cell_type": "code",
   "execution_count": 3,
   "metadata": {},
   "outputs": [
    {
     "data": {
      "text/html": [
       "<div>\n",
       "<style scoped>\n",
       "    .dataframe tbody tr th:only-of-type {\n",
       "        vertical-align: middle;\n",
       "    }\n",
       "\n",
       "    .dataframe tbody tr th {\n",
       "        vertical-align: top;\n",
       "    }\n",
       "\n",
       "    .dataframe thead th {\n",
       "        text-align: right;\n",
       "    }\n",
       "</style>\n",
       "<table border=\"1\" class=\"dataframe\">\n",
       "  <thead>\n",
       "    <tr style=\"text-align: right;\">\n",
       "      <th></th>\n",
       "      <th>season</th>\n",
       "      <th>holiday</th>\n",
       "      <th>workingday</th>\n",
       "      <th>weather</th>\n",
       "      <th>temp</th>\n",
       "      <th>atemp</th>\n",
       "      <th>humidity</th>\n",
       "      <th>windspeed</th>\n",
       "      <th>casual</th>\n",
       "      <th>registered</th>\n",
       "      <th>total</th>\n",
       "      <th>hour</th>\n",
       "    </tr>\n",
       "    <tr>\n",
       "      <th>datetime</th>\n",
       "      <th></th>\n",
       "      <th></th>\n",
       "      <th></th>\n",
       "      <th></th>\n",
       "      <th></th>\n",
       "      <th></th>\n",
       "      <th></th>\n",
       "      <th></th>\n",
       "      <th></th>\n",
       "      <th></th>\n",
       "      <th></th>\n",
       "      <th></th>\n",
       "    </tr>\n",
       "  </thead>\n",
       "  <tbody>\n",
       "    <tr>\n",
       "      <th>2011-01-01 00:00:00</th>\n",
       "      <td>1</td>\n",
       "      <td>0</td>\n",
       "      <td>0</td>\n",
       "      <td>1</td>\n",
       "      <td>9.84</td>\n",
       "      <td>14.395</td>\n",
       "      <td>81</td>\n",
       "      <td>0.0</td>\n",
       "      <td>3</td>\n",
       "      <td>13</td>\n",
       "      <td>16</td>\n",
       "      <td>0</td>\n",
       "    </tr>\n",
       "    <tr>\n",
       "      <th>2011-01-01 01:00:00</th>\n",
       "      <td>1</td>\n",
       "      <td>0</td>\n",
       "      <td>0</td>\n",
       "      <td>1</td>\n",
       "      <td>9.02</td>\n",
       "      <td>13.635</td>\n",
       "      <td>80</td>\n",
       "      <td>0.0</td>\n",
       "      <td>8</td>\n",
       "      <td>32</td>\n",
       "      <td>40</td>\n",
       "      <td>1</td>\n",
       "    </tr>\n",
       "    <tr>\n",
       "      <th>2011-01-01 02:00:00</th>\n",
       "      <td>1</td>\n",
       "      <td>0</td>\n",
       "      <td>0</td>\n",
       "      <td>1</td>\n",
       "      <td>9.02</td>\n",
       "      <td>13.635</td>\n",
       "      <td>80</td>\n",
       "      <td>0.0</td>\n",
       "      <td>5</td>\n",
       "      <td>27</td>\n",
       "      <td>32</td>\n",
       "      <td>2</td>\n",
       "    </tr>\n",
       "    <tr>\n",
       "      <th>2011-01-01 03:00:00</th>\n",
       "      <td>1</td>\n",
       "      <td>0</td>\n",
       "      <td>0</td>\n",
       "      <td>1</td>\n",
       "      <td>9.84</td>\n",
       "      <td>14.395</td>\n",
       "      <td>75</td>\n",
       "      <td>0.0</td>\n",
       "      <td>3</td>\n",
       "      <td>10</td>\n",
       "      <td>13</td>\n",
       "      <td>3</td>\n",
       "    </tr>\n",
       "    <tr>\n",
       "      <th>2011-01-01 04:00:00</th>\n",
       "      <td>1</td>\n",
       "      <td>0</td>\n",
       "      <td>0</td>\n",
       "      <td>1</td>\n",
       "      <td>9.84</td>\n",
       "      <td>14.395</td>\n",
       "      <td>75</td>\n",
       "      <td>0.0</td>\n",
       "      <td>0</td>\n",
       "      <td>1</td>\n",
       "      <td>1</td>\n",
       "      <td>4</td>\n",
       "    </tr>\n",
       "  </tbody>\n",
       "</table>\n",
       "</div>"
      ],
      "text/plain": [
       "                     season  holiday  workingday  weather  temp   atemp  \\\n",
       "datetime                                                                  \n",
       "2011-01-01 00:00:00       1        0           0        1  9.84  14.395   \n",
       "2011-01-01 01:00:00       1        0           0        1  9.02  13.635   \n",
       "2011-01-01 02:00:00       1        0           0        1  9.02  13.635   \n",
       "2011-01-01 03:00:00       1        0           0        1  9.84  14.395   \n",
       "2011-01-01 04:00:00       1        0           0        1  9.84  14.395   \n",
       "\n",
       "                     humidity  windspeed  casual  registered  total  hour  \n",
       "datetime                                                                   \n",
       "2011-01-01 00:00:00        81        0.0       3          13     16     0  \n",
       "2011-01-01 01:00:00        80        0.0       8          32     40     1  \n",
       "2011-01-01 02:00:00        80        0.0       5          27     32     2  \n",
       "2011-01-01 03:00:00        75        0.0       3          10     13     3  \n",
       "2011-01-01 04:00:00        75        0.0       0           1      1     4  "
      ]
     },
     "execution_count": 3,
     "metadata": {},
     "output_type": "execute_result"
    }
   ],
   "source": [
    "# Lectura de la información de archivo .csv\n",
    "bikes = pd.read_csv('https://raw.githubusercontent.com/davidzarruk/MIAD_ML_NLP_2023/main/datasets/bikeshare.csv', index_col='datetime', parse_dates=True)\n",
    "\n",
    "# Renombrar variable \"count\" a \"total\"\n",
    "bikes.rename(columns={'count':'total'}, inplace=True)\n",
    "\n",
    "# Crear la hora como una variable \n",
    "bikes['hour'] = bikes.index.hour\n",
    "\n",
    "# Visualización de los datos\n",
    "bikes.head()"
   ]
  },
  {
   "cell_type": "markdown",
   "metadata": {},
   "source": [
    "### Punto 1 - Análisis descriptivo\n",
    "\n",
    "Ejecute las celdas 1.1 y 1.2. A partir de los resultados realice un análisis descriptivo sobre las variables \"season\" y \"hour\", escriba sus inferencias sobre los datos. Para complementar su análisis puede usar métricas como máximo, mínimo, percentiles entre otros."
   ]
  },
  {
   "cell_type": "code",
   "execution_count": 59,
   "metadata": {},
   "outputs": [
    {
     "data": {
      "text/plain": [
       "season\n",
       "1    116.343261\n",
       "2    215.251372\n",
       "3    234.417124\n",
       "4    198.988296\n",
       "Name: total, dtype: float64"
      ]
     },
     "execution_count": 59,
     "metadata": {},
     "output_type": "execute_result"
    }
   ],
   "source": [
    "# Celda 1.1\n",
    "bikes.groupby('season').total.mean()"
   ]
  },
  {
   "cell_type": "code",
   "execution_count": 60,
   "metadata": {},
   "outputs": [
    {
     "data": {
      "text/plain": [
       "<BarContainer object of 4 artists>"
      ]
     },
     "execution_count": 60,
     "metadata": {},
     "output_type": "execute_result"
    },
    {
     "data": {
      "image/png": "[encoded data removed]",
      "text/plain": [
       "<Figure size 432x288 with 1 Axes>"
      ]
     },
     "metadata": {
      "needs_background": "light"
     },
     "output_type": "display_data"
    }
   ],
   "source": [
    "plt.bar(bikes.groupby('season').total.mean().index,bikes.groupby('season').total.mean())"
   ]
  },
  {
   "cell_type": "code",
   "execution_count": 61,
   "metadata": {},
   "outputs": [
    {
     "data": {
      "text/html": [
       "<div>\n",
       "<style scoped>\n",
       "    .dataframe tbody tr th:only-of-type {\n",
       "        vertical-align: middle;\n",
       "    }\n",
       "\n",
       "    .dataframe tbody tr th {\n",
       "        vertical-align: top;\n",
       "    }\n",
       "\n",
       "    .dataframe thead th {\n",
       "        text-align: right;\n",
       "    }\n",
       "</style>\n",
       "<table border=\"1\" class=\"dataframe\">\n",
       "  <thead>\n",
       "    <tr style=\"text-align: right;\">\n",
       "      <th></th>\n",
       "      <th>count</th>\n",
       "      <th>mean</th>\n",
       "      <th>std</th>\n",
       "      <th>min</th>\n",
       "      <th>25%</th>\n",
       "      <th>50%</th>\n",
       "      <th>75%</th>\n",
       "      <th>max</th>\n",
       "    </tr>\n",
       "    <tr>\n",
       "      <th>season</th>\n",
       "      <th></th>\n",
       "      <th></th>\n",
       "      <th></th>\n",
       "      <th></th>\n",
       "      <th></th>\n",
       "      <th></th>\n",
       "      <th></th>\n",
       "      <th></th>\n",
       "    </tr>\n",
       "  </thead>\n",
       "  <tbody>\n",
       "    <tr>\n",
       "      <th>1</th>\n",
       "      <td>2686.0</td>\n",
       "      <td>116.343261</td>\n",
       "      <td>125.273974</td>\n",
       "      <td>1.0</td>\n",
       "      <td>24.0</td>\n",
       "      <td>78.0</td>\n",
       "      <td>164.0</td>\n",
       "      <td>801.0</td>\n",
       "    </tr>\n",
       "    <tr>\n",
       "      <th>2</th>\n",
       "      <td>2733.0</td>\n",
       "      <td>215.251372</td>\n",
       "      <td>192.007843</td>\n",
       "      <td>1.0</td>\n",
       "      <td>49.0</td>\n",
       "      <td>172.0</td>\n",
       "      <td>321.0</td>\n",
       "      <td>873.0</td>\n",
       "    </tr>\n",
       "    <tr>\n",
       "      <th>3</th>\n",
       "      <td>2733.0</td>\n",
       "      <td>234.417124</td>\n",
       "      <td>197.151001</td>\n",
       "      <td>1.0</td>\n",
       "      <td>68.0</td>\n",
       "      <td>195.0</td>\n",
       "      <td>347.0</td>\n",
       "      <td>977.0</td>\n",
       "    </tr>\n",
       "    <tr>\n",
       "      <th>4</th>\n",
       "      <td>2734.0</td>\n",
       "      <td>198.988296</td>\n",
       "      <td>177.622409</td>\n",
       "      <td>1.0</td>\n",
       "      <td>51.0</td>\n",
       "      <td>161.0</td>\n",
       "      <td>294.0</td>\n",
       "      <td>948.0</td>\n",
       "    </tr>\n",
       "  </tbody>\n",
       "</table>\n",
       "</div>"
      ],
      "text/plain": [
       "         count        mean         std  min   25%    50%    75%    max\n",
       "season                                                                \n",
       "1       2686.0  116.343261  125.273974  1.0  24.0   78.0  164.0  801.0\n",
       "2       2733.0  215.251372  192.007843  1.0  49.0  172.0  321.0  873.0\n",
       "3       2733.0  234.417124  197.151001  1.0  68.0  195.0  347.0  977.0\n",
       "4       2734.0  198.988296  177.622409  1.0  51.0  161.0  294.0  948.0"
      ]
     },
     "execution_count": 61,
     "metadata": {},
     "output_type": "execute_result"
    }
   ],
   "source": [
    "bikes.groupby('season').describe()['total']"
   ]
  },
  {
   "cell_type": "code",
   "execution_count": 57,
   "metadata": {},
   "outputs": [
    {
     "data": {
      "text/plain": [
       "<Axes: xlabel='season', ylabel='total'>"
      ]
     },
     "execution_count": 57,
     "metadata": {},
     "output_type": "execute_result"
    },
    {
     "data": {
      "image/png": "[encoded data removed]",
      "text/plain": [
       "<Figure size 432x288 with 1 Axes>"
      ]
     },
     "metadata": {
      "needs_background": "light"
     },
     "output_type": "display_data"
    }
   ],
   "source": [
    "sns.boxplot(data=bikes, x='season', y= 'total', showfliers=True)"
   ]
  },
  {
   "cell_type": "markdown",
   "metadata": {},
   "source": [
    "### Análisis Variable 'season'\n",
    "1:winter, 2:spring, 3:summer, 4:fall\n",
    "\n",
    "Es posible observar inicialmente, que la estación que tiene un valor promedio mayor de alquiler día-hora de bicicletas  corresponde al valor 3 (summer/verano), con un valor de 234 bicicletas en promedio día-hora, seguida del valor 2 (spring/primavera) con un valor de 215 alquileres en promedio día-hora y por ultimo las estaciones de otoño e invierno con valores de 198 y 116 alquileres en promedio día-hora correspondientemente. Ahora, observando valores de la distribución de alquileres agrupados por la variable season, vemos que la estación 1 (springer/primavera) tiene una alta concentración de outliers, su media es de 125 alquileres día-hora, sin embargo, se observa que hay múltiples puntos que oscilan entre los 400 y 800 alquileres día-hora, registrando los valores intercuartílicos más pequeños. Las estaciones 2 y 3 (spring/primavera y summer/verano) presentan una menor concentración de outliers y rangos intercuartílicos y medianas  similares. Por ultimo para la estación 4 (otoño), como era de esperarse por el análisis de medias, posee rangos intercuartílicos más pequeños que sus dos antecesoras. Finalmente, en cuanto a valores mínimos, todas las categorías de la variable season presentan como valor 1 alquiler día-hora y los valores máximos son correspondientes según las distribuciones, a mayores rangos intercuartílicos, mayores valores máximos. Estas distribuciones hacen sentido con el contexto estudiado, pues es de esperarse que cuando el clima sea más complicado (invierno) se vea reducido el número de alquileres promedio, así como se espera que en épocas de vacaciones y mejor clima (verano) se incrementen los estadísticos de los alquileres promedio día-hora.\n"
   ]
  },
  {
   "cell_type": "code",
   "execution_count": 5,
   "metadata": {
    "scrolled": true
   },
   "outputs": [
    {
     "data": {
      "text/plain": [
       "hour\n",
       "0      55.138462\n",
       "1      33.859031\n",
       "2      22.899554\n",
       "3      11.757506\n",
       "4       6.407240\n",
       "5      19.767699\n",
       "6      76.259341\n",
       "7     213.116484\n",
       "8     362.769231\n",
       "9     221.780220\n",
       "10    175.092308\n",
       "11    210.674725\n",
       "12    256.508772\n",
       "13    257.787281\n",
       "14    243.442982\n",
       "15    254.298246\n",
       "16    316.372807\n",
       "17    468.765351\n",
       "18    430.859649\n",
       "19    315.278509\n",
       "20    228.517544\n",
       "21    173.370614\n",
       "22    133.576754\n",
       "23     89.508772\n",
       "Name: total, dtype: float64"
      ]
     },
     "execution_count": 5,
     "metadata": {},
     "output_type": "execute_result"
    }
   ],
   "source": [
    "# Celda 1.2\n",
    "bikes.groupby('hour').total.mean()"
   ]
  },
  {
   "cell_type": "code",
   "execution_count": 63,
   "metadata": {},
   "outputs": [
    {
     "data": {
      "text/plain": [
       "<BarContainer object of 24 artists>"
      ]
     },
     "execution_count": 63,
     "metadata": {},
     "output_type": "execute_result"
    },
    {
     "data": {
      "image/png": "[encoded data removed]",
      "text/plain": [
       "<Figure size 432x288 with 1 Axes>"
      ]
     },
     "metadata": {
      "needs_background": "light"
     },
     "output_type": "display_data"
    }
   ],
   "source": [
    "plt.bar(bikes.groupby('hour').total.mean().index,bikes.groupby('hour').total.mean())"
   ]
  },
  {
   "cell_type": "code",
   "execution_count": 67,
   "metadata": {},
   "outputs": [
    {
     "data": {
      "text/plain": [
       "<Axes: xlabel='hour', ylabel='total'>"
      ]
     },
     "execution_count": 67,
     "metadata": {},
     "output_type": "execute_result"
    },
    {
     "data": {
      "image/png": "[encoded data removed]",
      "text/plain": [
       "<Figure size 432x288 with 1 Axes>"
      ]
     },
     "metadata": {
      "needs_background": "light"
     },
     "output_type": "display_data"
    }
   ],
   "source": [
    "sns.boxplot(data=bikes, x='hour', y= 'total', showfliers=True)"
   ]
  },
  {
   "cell_type": "code",
   "execution_count": 65,
   "metadata": {},
   "outputs": [
    {
     "data": {
      "text/html": [
       "<div>\n",
       "<style scoped>\n",
       "    .dataframe tbody tr th:only-of-type {\n",
       "        vertical-align: middle;\n",
       "    }\n",
       "\n",
       "    .dataframe tbody tr th {\n",
       "        vertical-align: top;\n",
       "    }\n",
       "\n",
       "    .dataframe thead th {\n",
       "        text-align: right;\n",
       "    }\n",
       "</style>\n",
       "<table border=\"1\" class=\"dataframe\">\n",
       "  <thead>\n",
       "    <tr style=\"text-align: right;\">\n",
       "      <th></th>\n",
       "      <th>count</th>\n",
       "      <th>mean</th>\n",
       "      <th>std</th>\n",
       "      <th>min</th>\n",
       "      <th>25%</th>\n",
       "      <th>50%</th>\n",
       "      <th>75%</th>\n",
       "      <th>max</th>\n",
       "    </tr>\n",
       "    <tr>\n",
       "      <th>hour</th>\n",
       "      <th></th>\n",
       "      <th></th>\n",
       "      <th></th>\n",
       "      <th></th>\n",
       "      <th></th>\n",
       "      <th></th>\n",
       "      <th></th>\n",
       "      <th></th>\n",
       "    </tr>\n",
       "  </thead>\n",
       "  <tbody>\n",
       "    <tr>\n",
       "      <th>0</th>\n",
       "      <td>455.0</td>\n",
       "      <td>55.138462</td>\n",
       "      <td>43.620012</td>\n",
       "      <td>2.0</td>\n",
       "      <td>24.00</td>\n",
       "      <td>41.0</td>\n",
       "      <td>74.50</td>\n",
       "      <td>283.0</td>\n",
       "    </tr>\n",
       "    <tr>\n",
       "      <th>1</th>\n",
       "      <td>454.0</td>\n",
       "      <td>33.859031</td>\n",
       "      <td>34.112105</td>\n",
       "      <td>1.0</td>\n",
       "      <td>11.00</td>\n",
       "      <td>19.0</td>\n",
       "      <td>46.00</td>\n",
       "      <td>168.0</td>\n",
       "    </tr>\n",
       "    <tr>\n",
       "      <th>2</th>\n",
       "      <td>448.0</td>\n",
       "      <td>22.899554</td>\n",
       "      <td>26.110267</td>\n",
       "      <td>1.0</td>\n",
       "      <td>5.00</td>\n",
       "      <td>11.0</td>\n",
       "      <td>32.00</td>\n",
       "      <td>119.0</td>\n",
       "    </tr>\n",
       "    <tr>\n",
       "      <th>3</th>\n",
       "      <td>433.0</td>\n",
       "      <td>11.757506</td>\n",
       "      <td>12.666442</td>\n",
       "      <td>1.0</td>\n",
       "      <td>3.00</td>\n",
       "      <td>6.0</td>\n",
       "      <td>15.00</td>\n",
       "      <td>66.0</td>\n",
       "    </tr>\n",
       "    <tr>\n",
       "      <th>4</th>\n",
       "      <td>442.0</td>\n",
       "      <td>6.407240</td>\n",
       "      <td>4.217633</td>\n",
       "      <td>1.0</td>\n",
       "      <td>3.00</td>\n",
       "      <td>6.0</td>\n",
       "      <td>9.00</td>\n",
       "      <td>28.0</td>\n",
       "    </tr>\n",
       "    <tr>\n",
       "      <th>5</th>\n",
       "      <td>452.0</td>\n",
       "      <td>19.767699</td>\n",
       "      <td>12.784293</td>\n",
       "      <td>1.0</td>\n",
       "      <td>8.00</td>\n",
       "      <td>19.0</td>\n",
       "      <td>29.00</td>\n",
       "      <td>57.0</td>\n",
       "    </tr>\n",
       "    <tr>\n",
       "      <th>6</th>\n",
       "      <td>455.0</td>\n",
       "      <td>76.259341</td>\n",
       "      <td>54.745333</td>\n",
       "      <td>1.0</td>\n",
       "      <td>24.50</td>\n",
       "      <td>75.0</td>\n",
       "      <td>118.00</td>\n",
       "      <td>213.0</td>\n",
       "    </tr>\n",
       "    <tr>\n",
       "      <th>7</th>\n",
       "      <td>455.0</td>\n",
       "      <td>213.116484</td>\n",
       "      <td>159.207044</td>\n",
       "      <td>1.0</td>\n",
       "      <td>63.00</td>\n",
       "      <td>208.0</td>\n",
       "      <td>334.00</td>\n",
       "      <td>596.0</td>\n",
       "    </tr>\n",
       "    <tr>\n",
       "      <th>8</th>\n",
       "      <td>455.0</td>\n",
       "      <td>362.769231</td>\n",
       "      <td>231.723065</td>\n",
       "      <td>8.0</td>\n",
       "      <td>133.50</td>\n",
       "      <td>392.0</td>\n",
       "      <td>563.50</td>\n",
       "      <td>839.0</td>\n",
       "    </tr>\n",
       "    <tr>\n",
       "      <th>9</th>\n",
       "      <td>455.0</td>\n",
       "      <td>221.780220</td>\n",
       "      <td>92.099209</td>\n",
       "      <td>14.0</td>\n",
       "      <td>161.00</td>\n",
       "      <td>217.0</td>\n",
       "      <td>294.50</td>\n",
       "      <td>414.0</td>\n",
       "    </tr>\n",
       "    <tr>\n",
       "      <th>10</th>\n",
       "      <td>455.0</td>\n",
       "      <td>175.092308</td>\n",
       "      <td>101.807629</td>\n",
       "      <td>17.0</td>\n",
       "      <td>106.00</td>\n",
       "      <td>149.0</td>\n",
       "      <td>218.50</td>\n",
       "      <td>539.0</td>\n",
       "    </tr>\n",
       "    <tr>\n",
       "      <th>11</th>\n",
       "      <td>455.0</td>\n",
       "      <td>210.674725</td>\n",
       "      <td>127.444294</td>\n",
       "      <td>10.0</td>\n",
       "      <td>123.00</td>\n",
       "      <td>183.0</td>\n",
       "      <td>265.50</td>\n",
       "      <td>647.0</td>\n",
       "    </tr>\n",
       "    <tr>\n",
       "      <th>12</th>\n",
       "      <td>456.0</td>\n",
       "      <td>256.508772</td>\n",
       "      <td>143.881880</td>\n",
       "      <td>3.0</td>\n",
       "      <td>157.00</td>\n",
       "      <td>234.5</td>\n",
       "      <td>332.00</td>\n",
       "      <td>757.0</td>\n",
       "    </tr>\n",
       "    <tr>\n",
       "      <th>13</th>\n",
       "      <td>456.0</td>\n",
       "      <td>257.787281</td>\n",
       "      <td>149.167185</td>\n",
       "      <td>11.0</td>\n",
       "      <td>154.00</td>\n",
       "      <td>226.5</td>\n",
       "      <td>329.00</td>\n",
       "      <td>729.0</td>\n",
       "    </tr>\n",
       "    <tr>\n",
       "      <th>14</th>\n",
       "      <td>456.0</td>\n",
       "      <td>243.442982</td>\n",
       "      <td>147.563199</td>\n",
       "      <td>12.0</td>\n",
       "      <td>144.00</td>\n",
       "      <td>212.0</td>\n",
       "      <td>311.25</td>\n",
       "      <td>730.0</td>\n",
       "    </tr>\n",
       "    <tr>\n",
       "      <th>15</th>\n",
       "      <td>456.0</td>\n",
       "      <td>254.298246</td>\n",
       "      <td>144.235670</td>\n",
       "      <td>7.0</td>\n",
       "      <td>154.00</td>\n",
       "      <td>232.0</td>\n",
       "      <td>331.00</td>\n",
       "      <td>724.0</td>\n",
       "    </tr>\n",
       "    <tr>\n",
       "      <th>16</th>\n",
       "      <td>456.0</td>\n",
       "      <td>316.372807</td>\n",
       "      <td>145.664786</td>\n",
       "      <td>11.0</td>\n",
       "      <td>211.75</td>\n",
       "      <td>309.5</td>\n",
       "      <td>421.00</td>\n",
       "      <td>783.0</td>\n",
       "    </tr>\n",
       "    <tr>\n",
       "      <th>17</th>\n",
       "      <td>456.0</td>\n",
       "      <td>468.765351</td>\n",
       "      <td>223.775485</td>\n",
       "      <td>15.0</td>\n",
       "      <td>277.00</td>\n",
       "      <td>480.5</td>\n",
       "      <td>608.50</td>\n",
       "      <td>970.0</td>\n",
       "    </tr>\n",
       "    <tr>\n",
       "      <th>18</th>\n",
       "      <td>456.0</td>\n",
       "      <td>430.859649</td>\n",
       "      <td>219.908138</td>\n",
       "      <td>23.0</td>\n",
       "      <td>240.75</td>\n",
       "      <td>422.5</td>\n",
       "      <td>564.00</td>\n",
       "      <td>977.0</td>\n",
       "    </tr>\n",
       "    <tr>\n",
       "      <th>19</th>\n",
       "      <td>456.0</td>\n",
       "      <td>315.278509</td>\n",
       "      <td>156.641732</td>\n",
       "      <td>11.0</td>\n",
       "      <td>190.00</td>\n",
       "      <td>312.5</td>\n",
       "      <td>416.00</td>\n",
       "      <td>743.0</td>\n",
       "    </tr>\n",
       "    <tr>\n",
       "      <th>20</th>\n",
       "      <td>456.0</td>\n",
       "      <td>228.517544</td>\n",
       "      <td>116.411565</td>\n",
       "      <td>11.0</td>\n",
       "      <td>136.75</td>\n",
       "      <td>224.0</td>\n",
       "      <td>302.00</td>\n",
       "      <td>551.0</td>\n",
       "    </tr>\n",
       "    <tr>\n",
       "      <th>21</th>\n",
       "      <td>456.0</td>\n",
       "      <td>173.370614</td>\n",
       "      <td>87.629319</td>\n",
       "      <td>6.0</td>\n",
       "      <td>103.50</td>\n",
       "      <td>171.5</td>\n",
       "      <td>230.00</td>\n",
       "      <td>584.0</td>\n",
       "    </tr>\n",
       "    <tr>\n",
       "      <th>22</th>\n",
       "      <td>456.0</td>\n",
       "      <td>133.576754</td>\n",
       "      <td>69.844495</td>\n",
       "      <td>9.0</td>\n",
       "      <td>80.00</td>\n",
       "      <td>129.0</td>\n",
       "      <td>175.00</td>\n",
       "      <td>502.0</td>\n",
       "    </tr>\n",
       "    <tr>\n",
       "      <th>23</th>\n",
       "      <td>456.0</td>\n",
       "      <td>89.508772</td>\n",
       "      <td>51.638004</td>\n",
       "      <td>4.0</td>\n",
       "      <td>52.75</td>\n",
       "      <td>80.0</td>\n",
       "      <td>123.00</td>\n",
       "      <td>256.0</td>\n",
       "    </tr>\n",
       "  </tbody>\n",
       "</table>\n",
       "</div>"
      ],
      "text/plain": [
       "      count        mean         std   min     25%    50%     75%    max\n",
       "hour                                                                   \n",
       "0     455.0   55.138462   43.620012   2.0   24.00   41.0   74.50  283.0\n",
       "1     454.0   33.859031   34.112105   1.0   11.00   19.0   46.00  168.0\n",
       "2     448.0   22.899554   26.110267   1.0    5.00   11.0   32.00  119.0\n",
       "3     433.0   11.757506   12.666442   1.0    3.00    6.0   15.00   66.0\n",
       "4     442.0    6.407240    4.217633   1.0    3.00    6.0    9.00   28.0\n",
       "5     452.0   19.767699   12.784293   1.0    8.00   19.0   29.00   57.0\n",
       "6     455.0   76.259341   54.745333   1.0   24.50   75.0  118.00  213.0\n",
       "7     455.0  213.116484  159.207044   1.0   63.00  208.0  334.00  596.0\n",
       "8     455.0  362.769231  231.723065   8.0  133.50  392.0  563.50  839.0\n",
       "9     455.0  221.780220   92.099209  14.0  161.00  217.0  294.50  414.0\n",
       "10    455.0  175.092308  101.807629  17.0  106.00  149.0  218.50  539.0\n",
       "11    455.0  210.674725  127.444294  10.0  123.00  183.0  265.50  647.0\n",
       "12    456.0  256.508772  143.881880   3.0  157.00  234.5  332.00  757.0\n",
       "13    456.0  257.787281  149.167185  11.0  154.00  226.5  329.00  729.0\n",
       "14    456.0  243.442982  147.563199  12.0  144.00  212.0  311.25  730.0\n",
       "15    456.0  254.298246  144.235670   7.0  154.00  232.0  331.00  724.0\n",
       "16    456.0  316.372807  145.664786  11.0  211.75  309.5  421.00  783.0\n",
       "17    456.0  468.765351  223.775485  15.0  277.00  480.5  608.50  970.0\n",
       "18    456.0  430.859649  219.908138  23.0  240.75  422.5  564.00  977.0\n",
       "19    456.0  315.278509  156.641732  11.0  190.00  312.5  416.00  743.0\n",
       "20    456.0  228.517544  116.411565  11.0  136.75  224.0  302.00  551.0\n",
       "21    456.0  173.370614   87.629319   6.0  103.50  171.5  230.00  584.0\n",
       "22    456.0  133.576754   69.844495   9.0   80.00  129.0  175.00  502.0\n",
       "23    456.0   89.508772   51.638004   4.0   52.75   80.0  123.00  256.0"
      ]
     },
     "execution_count": 65,
     "metadata": {},
     "output_type": "execute_result"
    }
   ],
   "source": [
    "bikes.groupby('hour').describe()['total']"
   ]
  },
  {
   "cell_type": "markdown",
   "metadata": {},
   "source": [
    "### Análisis Variable 'hour'\n",
    "\n",
    "Es posible observar inicialmente, que las horas de mayor demanda promedio son las 8 am y las 5 y 6 pm, teniendo la mayor densidad de demanda promedio entre las 11 am y las 8 pm y como era de esperarse la demanda es muy baja o casi nula entre las 12 am y las 5 am. Ahora, observando los valores de la distribución nuevamente observamos que las horas con mayores valores intercuartílicas son las 7 am, 8 am, 5 pm, 6 pm y 7 pm. Adicionalmente, se observa cómo después de las 7 pm, progresivamente se disminuyen los rangos intercuartílicos hasta que nuevamente vuelven a incrementar a las 6 am. Estos valores son acordes con el contexto de las personas y los horarios laborales de entrada y salida, que pueden ayudar a describir este comportamiento de las distintas horas."
   ]
  },
  {
   "cell_type": "markdown",
   "metadata": {},
   "source": [
    "### Punto 2 - Análisis de gráficos\n",
    "\n",
    "Primero ejecute la celda 2.1 y asegúrese de comprender el código y el resultado. Luego, en cada una de celdas 2.2 y 2.3 escriba un código que genere una gráfica del número de bicicletas rentadas promedio para cada valor de la variable \"hour\" (hora) cuando la variable \"season\" es igual a 1 (invierno) e igual a 3 (verano), respectivamente. Analice y escriba sus hallazgos."
   ]
  },
  {
   "cell_type": "code",
   "execution_count": 9,
   "metadata": {},
   "outputs": [
    {
     "data": {
      "text/plain": [
       "<Axes: xlabel='hour'>"
      ]
     },
     "execution_count": 9,
     "metadata": {},
     "output_type": "execute_result"
    },
    {
     "data": {
      "image/png": "[encoded data removed]",
      "text/plain": [
       "<Figure size 432x288 with 1 Axes>"
      ]
     },
     "metadata": {
      "needs_background": "light"
     },
     "output_type": "display_data"
    }
   ],
   "source": [
    "# Celda 2.1 - rentas promedio para cada valor de la variable \"hour\"\n",
    "bikes.groupby('hour').total.mean().plot()"
   ]
  },
  {
   "cell_type": "code",
   "execution_count": 68,
   "metadata": {},
   "outputs": [
    {
     "data": {
      "text/plain": [
       "<Axes: xlabel='hour'>"
      ]
     },
     "execution_count": 68,
     "metadata": {},
     "output_type": "execute_result"
    },
    {
     "data": {
      "image/png": "[encoded data removed]",
      "text/plain": [
       "<Figure size 432x288 with 1 Axes>"
      ]
     },
     "metadata": {
      "needs_background": "light"
     },
     "output_type": "display_data"
    }
   ],
   "source": [
    "# Celda 2.2 - \"season\"=1 escriba su código y hallazgos \n",
    "bikes[bikes['season']==1].groupby('hour').total.mean().plot()"
   ]
  },
  {
   "cell_type": "code",
   "execution_count": 69,
   "metadata": {},
   "outputs": [
    {
     "data": {
      "text/plain": [
       "<Axes: xlabel='hour'>"
      ]
     },
     "execution_count": 69,
     "metadata": {},
     "output_type": "execute_result"
    },
    {
     "data": {
      "image/png": "[encoded data removed]",
      "text/plain": [
       "<Figure size 432x288 with 1 Axes>"
      ]
     },
     "metadata": {
      "needs_background": "light"
     },
     "output_type": "display_data"
    }
   ],
   "source": [
    "# Celda 2.3 - \"season\"=3 escriba su código y hallazgos \n",
    "bikes[bikes['season']==3].groupby('hour').total.mean().plot()"
   ]
  },
  {
   "cell_type": "code",
   "execution_count": 77,
   "metadata": {},
   "outputs": [
    {
     "data": {
      "text/plain": [
       "<matplotlib.legend.Legend at 0x2a3945a0100>"
      ]
     },
     "execution_count": 77,
     "metadata": {},
     "output_type": "execute_result"
    },
    {
     "data": {
      "image/png": "[encoded data removed]",
      "text/plain": [
       "<Figure size 432x288 with 1 Axes>"
      ]
     },
     "metadata": {
      "needs_background": "light"
     },
     "output_type": "display_data"
    }
   ],
   "source": [
    "bikes.groupby('hour').total.mean().plot()\n",
    "bikes[bikes['season']==1].groupby('hour').total.mean().plot()\n",
    "bikes[bikes['season']==3].groupby('hour').total.mean().plot()\n",
    "plt.legend(['Total','Invierno','Verano'])"
   ]
  },
  {
   "cell_type": "markdown",
   "metadata": {},
   "source": [
    "### Análisis\n",
    "\n",
    "Como era de esperarse y en concordancia con los análisis previos, para la mayoría de las horas del día, durante el verano se presentan valores promedio más altos en comparación con el invierno y en comparación con el total de todos los registros. Es decir, se presentan las mismas tendencias en cada uno de los casos, sin embargo, para invierno cada uno de los promedios de alquiler de bicicletas es mucho menor con respecto a los valores en la tendencia total y en la tendencia del verano. Ahora, en el verano, la tendencia es igual pero los valores un poco más altos en horarios de la mañana con respecto a la tendencia total y bastante mas alta a las 5 pm. \n",
    "\n",
    "Nuevamente inferimos que el contexto laboral y climático influye en el comportamiento del alquiler de bicicletas, lo cual se ve reflejado en los datos y en como las tendencias de alquileres se ven influenciadas por las estaciones con climas más amenos y por los horarios que se espera que tengan mayor demanda según el horario laboral.\n"
   ]
  },
  {
   "cell_type": "markdown",
   "metadata": {},
   "source": [
    "### Punto 3 - Regresión lineal\n",
    "En la celda 3 ajuste un modelo de regresión lineal a todo el conjunto de datos, utilizando \"total\" como variable de respuesta y \"season\" y \"hour\" como las únicas variables predictoras, teniendo en cuenta que la variable \"season\" es categórica. Luego, imprima los coeficientes e interprételos. ¿Cuáles son las limitaciones de la regresión lineal en este caso?"
   ]
  },
  {
   "cell_type": "code",
   "execution_count": 88,
   "metadata": {},
   "outputs": [
    {
     "data": {
      "text/plain": [
       "<seaborn.axisgrid.PairGrid at 0x2a3947678e0>"
      ]
     },
     "execution_count": 88,
     "metadata": {},
     "output_type": "execute_result"
    },
    {
     "data": {
      "image/png": "[encoded data removed]",
      "text/plain": [
       "<Figure size 540x540 with 12 Axes>"
      ]
     },
     "metadata": {
      "needs_background": "light"
     },
     "output_type": "display_data"
    }
   ],
   "source": [
    "# Correlogramas de las variables predictoras y de respuesta\n",
    "sns.pairplot(bikes[['season','hour','total']],diag_kind='hist')"
   ]
  },
  {
   "cell_type": "code",
   "execution_count": 132,
   "metadata": {},
   "outputs": [
    {
     "data": {
      "text/html": [
       "<div>\n",
       "<style scoped>\n",
       "    .dataframe tbody tr th:only-of-type {\n",
       "        vertical-align: middle;\n",
       "    }\n",
       "\n",
       "    .dataframe tbody tr th {\n",
       "        vertical-align: top;\n",
       "    }\n",
       "\n",
       "    .dataframe thead th {\n",
       "        text-align: right;\n",
       "    }\n",
       "</style>\n",
       "<table border=\"1\" class=\"dataframe\">\n",
       "  <thead>\n",
       "    <tr style=\"text-align: right;\">\n",
       "      <th></th>\n",
       "      <th>hour</th>\n",
       "      <th>total</th>\n",
       "      <th>season_2</th>\n",
       "      <th>season_3</th>\n",
       "      <th>season_4</th>\n",
       "    </tr>\n",
       "  </thead>\n",
       "  <tbody>\n",
       "    <tr>\n",
       "      <th>hour</th>\n",
       "      <td>1.000000</td>\n",
       "      <td>0.400601</td>\n",
       "      <td>-0.002733</td>\n",
       "      <td>-0.002611</td>\n",
       "      <td>-0.002964</td>\n",
       "    </tr>\n",
       "    <tr>\n",
       "      <th>total</th>\n",
       "      <td>0.400601</td>\n",
       "      <td>1.000000</td>\n",
       "      <td>0.075681</td>\n",
       "      <td>0.136942</td>\n",
       "      <td>0.023704</td>\n",
       "    </tr>\n",
       "    <tr>\n",
       "      <th>season_2</th>\n",
       "      <td>-0.002733</td>\n",
       "      <td>0.075681</td>\n",
       "      <td>1.000000</td>\n",
       "      <td>-0.335214</td>\n",
       "      <td>-0.335296</td>\n",
       "    </tr>\n",
       "    <tr>\n",
       "      <th>season_3</th>\n",
       "      <td>-0.002611</td>\n",
       "      <td>0.136942</td>\n",
       "      <td>-0.335214</td>\n",
       "      <td>1.000000</td>\n",
       "      <td>-0.335296</td>\n",
       "    </tr>\n",
       "    <tr>\n",
       "      <th>season_4</th>\n",
       "      <td>-0.002964</td>\n",
       "      <td>0.023704</td>\n",
       "      <td>-0.335296</td>\n",
       "      <td>-0.335296</td>\n",
       "      <td>1.000000</td>\n",
       "    </tr>\n",
       "  </tbody>\n",
       "</table>\n",
       "</div>"
      ],
      "text/plain": [
       "              hour     total  season_2  season_3  season_4\n",
       "hour      1.000000  0.400601 -0.002733 -0.002611 -0.002964\n",
       "total     0.400601  1.000000  0.075681  0.136942  0.023704\n",
       "season_2 -0.002733  0.075681  1.000000 -0.335214 -0.335296\n",
       "season_3 -0.002611  0.136942 -0.335214  1.000000 -0.335296\n",
       "season_4 -0.002964  0.023704 -0.335296 -0.335296  1.000000"
      ]
     },
     "execution_count": 132,
     "metadata": {},
     "output_type": "execute_result"
    }
   ],
   "source": [
    "#Matriz de correlación\n",
    "pd.get_dummies(bikes[['season','hour','total']], columns=['season'],drop_first=True).corr()"
   ]
  },
  {
   "cell_type": "code",
   "execution_count": 133,
   "metadata": {},
   "outputs": [
    {
     "data": {
      "text/plain": [
       "0.17688537507600843"
      ]
     },
     "execution_count": 133,
     "metadata": {},
     "output_type": "execute_result"
    }
   ],
   "source": [
    "# Celda 3\n",
    "# Sin dummyficar la variable seaason\n",
    "import numpy as np\n",
    "import pandas as pd\n",
    "from sklearn import datasets, linear_model\n",
    "\n",
    "# Ajustamos el las variables predictoras y de respuesta con la variable season categorica.\n",
    "XTotal = bikes.copy()[['season','hour']]\n",
    "yTotal = bikes.copy()['total']\n",
    "\n",
    "# Definimos el train y test set.\n",
    "XTrain, XTest, yTrain, yTest = train_test_split(XTotal,yTotal,test_size=0.33,random_state=0)\n",
    "\n",
    "# Declaramos una instancia del modelo\n",
    "lr = linear_model.LinearRegression()\n",
    "\n",
    "# Entrenamos el modelo\n",
    "lr.fit(XTrain, yTrain)\n",
    "\n",
    "# Generamos las predicciones\n",
    "y_pred = lr.predict(XTest)\n",
    "\n",
    "# observamos el R2 del modelo\n",
    "\n",
    "lr.score(XTest, yTest)\n"
   ]
  },
  {
   "cell_type": "code",
   "execution_count": 134,
   "metadata": {},
   "outputs": [
    {
     "data": {
      "text/plain": [
       "array([28.03619568, 10.57944293])"
      ]
     },
     "execution_count": 134,
     "metadata": {},
     "output_type": "execute_result"
    }
   ],
   "source": [
    " lr.coef_"
   ]
  },
  {
   "cell_type": "code",
   "execution_count": 135,
   "metadata": {},
   "outputs": [
    {
     "name": "stdout",
     "output_type": "stream",
     "text": [
      "R2: 0.2151771203253332\n"
     ]
    }
   ],
   "source": [
    "# Dummyficanod la variable season\n",
    "# Ajustamos el las variables predictoras y de respuesta.\n",
    "XTotal = bikes.copy()[['season','hour']]\n",
    "yTotal = bikes.copy()['total']\n",
    "\n",
    "# Dummyficamos la variable season\n",
    "XTotal = pd.get_dummies(XTotal, columns=['season'],drop_first=True)\n",
    "\n",
    "# Definimos el train y test set.\n",
    "XTrain, XTest, yTrain, yTest = train_test_split(XTotal,yTotal,test_size=0.33,random_state=0)\n",
    "\n",
    "# Declaramos una instancia del modelo\n",
    "lr = linear_model.LinearRegression()\n",
    "\n",
    "# Entrenamos el modelo\n",
    "lr.fit(XTrain, yTrain)\n",
    "\n",
    "# Generamos las predicciones\n",
    "y_pred = lr.predict(XTest)\n",
    "\n",
    "# observamos el R2 del modelo\n",
    "\n",
    "print('R2:',lr.score(XTest, yTest))\n"
   ]
  },
  {
   "cell_type": "code",
   "execution_count": 136,
   "metadata": {},
   "outputs": [
    {
     "name": "stdout",
     "output_type": "stream",
     "text": [
      "coeficientes:\n",
      "               coefs\n",
      "hour       10.628739\n",
      "season_2  100.907768\n",
      "season_3  119.018664\n",
      "season_4   87.247390 \n",
      "\n",
      "intercepto: -9.563071266089253\n"
     ]
    }
   ],
   "source": [
    "coefs=pd.DataFrame(lr.coef_,XTotal.columns.to_list(),columns=['coefs'])\n",
    "print('coeficientes:')\n",
    "print(coefs,'\\n')\n",
    "print('intercepto:',lr.intercept_)"
   ]
  },
  {
   "cell_type": "markdown",
   "metadata": {},
   "source": [
    "Como es posible observar obtenemos un r2 mejor cuando dummyficamos la variable categórica season, esto era de esperarse, pues no es una variable categórica ordinal, por lo que se hará el análisis sobre el modelo con las variables dummyficadas. Ahora, interpretando los coeficientes betas que resultan del modelo, estos representan el cambio por cada unidad para cada una de las variables manteniendo las demás variables constantes, es decir que si la hora aumenta una unidad, el valor final de la predicción incrementará 10.68 aproximadamente su valor manteniendo las demás variables constantes. Como es posible observar, se le da más peso a las pendientes de las estaciones que a las horas, esto debido a que el modelo detecta que tienen mayor influencia sobre la variable de respuesta que la variable hour. Continuando, como es posible observar, la mayor ganancia, como era de esperarse por el análisis preliminar la da la variable de binaria del verano (season_3), mientras que la menor está dada por la variable del otoño, que corresponde a la estación con menores valores de alquiler después del invierno. Ahora, en cuanto al intercepto, corresponde al valor base cuando todas las demás variables son cero, en este caso es negativo.\n",
    "\n",
    "Ahora, en cuanto al desempeño del modelo vemos un r2 muy pobre de 0.215 aproximadamente, lo cual está muy alejado del valor máximo (1), por lo que vemos que el modelo de regresión lineal no se ajusta correctamente a las características de las variables de entrenamiento para capturar su relación con la variable de respuesta.\n",
    "\n",
    "Ahora, este desempeño tan pobre puede deberse a múltiples razones:\n",
    "1. El modelo de regresión lineal se caracteriza por ser poco flexible y muy rígido, por lo que se puede generar mucho sesgo y muy poca varianza. \n",
    "2. Se están usando pocas variables predictoras por lo que puede que no se esté logrando capturar correctamente la naturaleza compleja de la relación, por omisión de información.\n",
    "3. Los outliers que vimos en los diagramas de cajas y bigotes pueden generar sesgo en el modelo.\n",
    "4. La relación observada en los diagramas de dispersión para las variables no parece tener una tendencia lineal con respecto a la variable de respuesta. Si la relación entre las variables predictoras y la variable de respuesta no tiene una tendencia lineal, la regresión no puede modelar adecuadamente los datos, resultando en un desempeño pobre."
   ]
  },
  {
   "cell_type": "markdown",
   "metadata": {},
   "source": [
    "### Punto 4 - Árbol de decisión manual\n",
    "En la celda 4 cree un árbol de decisiones para pronosticar la variable \"total\" iterando **manualmente** sobre las variables \"hour\" y  \"season\". El árbol debe tener al menos 6 nodos finales."
   ]
  },
  {
   "cell_type": "code",
   "execution_count": 237,
   "metadata": {},
   "outputs": [],
   "source": [
    "# Celda 4\n",
    "import numpy as np\n",
    "# definimos una función que calcula el MSE para iterar sobre el arbol, la predicción se define como el promedio de los valores\n",
    "# que cumplen con la condición\n",
    "def mse(y):\n",
    "    return np.mean((y - np.mean(y))**2)\n",
    "# Definimos una funcion que calcula el MSE total al sumar el MSE de cada lado\n",
    "def mse_total(X_col,y,split):\n",
    "    filter_l = X_col < split\n",
    "    y_l = y.loc[filter_l]\n",
    "    y_r = y.loc[~filter_l]\n",
    "    \n",
    "    n_l = y_l.shape[0]\n",
    "    n_r = y_r.shape[0]\n",
    "    \n",
    "    mse_y = mse(y)\n",
    "    mse_l = mse(y_l)\n",
    "    mse_r = mse(y_r)\n",
    "    \n",
    "    mse_total_ = mse_l + mse_r\n",
    "    \n",
    "    return mse_total_\n",
    "\n",
    "# Definición de la función best_split para calcular cuál es la mejor variable y punto de cortepara hacer la bifurcación del árbol\n",
    "def best_split(X, y):\n",
    "    \n",
    "    features = range(X.shape[1])\n",
    "    \n",
    "    best_split = [0, 0, 0]  # j, split, gain\n",
    "    \n",
    "    # Para todas las varibles \n",
    "    for j in features:\n",
    "        splits = np.unique(X.iloc[:,j])\n",
    "        \n",
    "        # Para cada partición\n",
    "        for split in splits:\n",
    "            gain = mse_total(X.iloc[:, j], y, split)\n",
    "                        \n",
    "            if gain > best_split[2]:\n",
    "                best_split = [j, split, gain]\n",
    "    \n",
    "    return best_split\n",
    "\n",
    "# Definición de la función tree_grow para hacer un crecimiento recursivo del árbol\n",
    "def tree_grow(X, y, level=0, max_depth=None):\n",
    "    \n",
    "    # Si solo es una observación\n",
    "    if X.shape[0] == 1:\n",
    "        tree = dict(y_pred=y.iloc[:1].values[0], y_prob=0.5, level=level, split=-1, n_samples=1, gain=0)\n",
    "        return tree\n",
    "    \n",
    "    # Calcular la mejor división\n",
    "    j, split, gain = best_split(X, y)\n",
    "    \n",
    "    # Guardar el árbol y estimar la predicción\n",
    "    y_pred = y.mean() \n",
    "    \n",
    "    tree = dict(y_pred=y_pred, level=level, split=-1, n_samples=X.shape[0], gain=gain)\n",
    "    if max_depth is not None:\n",
    "        if level >= max_depth:\n",
    "            return tree   \n",
    "    \n",
    "    # Continuar creando la partición\n",
    "    filter_l = X.iloc[:, j] < split\n",
    "    X_l, y_l = X.loc[filter_l], y.loc[filter_l]\n",
    "    X_r, y_r = X.loc[~filter_l], y.loc[~filter_l]\n",
    "    tree['split'] = [j, split]\n",
    "\n",
    "    # Siguiente iteración para cada partición\n",
    "    \n",
    "    tree['sl'] = tree_grow(X_l, y_l, level + 1,max_depth=max_depth)\n",
    "    tree['sr'] = tree_grow(X_r, y_r, level + 1,max_depth=max_depth)\n",
    "    \n",
    "    return tree\n",
    "\n",
    "def tree_predict(X, tree):\n",
    "    \n",
    "    predicted = np.ones(X.shape[0])\n",
    "\n",
    "    # Revisar si es el nodo final\n",
    "    if tree['split'] == -1:\n",
    "        predicted = predicted * tree['y_pred']\n",
    "            \n",
    "    else:\n",
    "        \n",
    "        j, split = tree['split']\n",
    "        filter_l = (X.iloc[:, j] < split)\n",
    "        X_l = X.loc[filter_l]\n",
    "        X_r = X.loc[~filter_l]\n",
    "\n",
    "        if X_l.shape[0] == 0:  # Si el nodo izquierdo está vacio solo continua con el derecho \n",
    "            predicted[~filter_l] = tree_predict(X_r, tree['sr'])\n",
    "        elif X_r.shape[0] == 0:  #  Si el nodo derecho está vacio solo continua con el izquierdo\n",
    "            predicted[filter_l] = tree_predict(X_l, tree['sl'])\n",
    "        else:\n",
    "            predicted[filter_l] = tree_predict(X_l, tree['sl'])\n",
    "            predicted[~filter_l] = tree_predict(X_r, tree['sr'])\n",
    "\n",
    "    return predicted"
   ]
  },
  {
   "cell_type": "code",
   "execution_count": 251,
   "metadata": {},
   "outputs": [],
   "source": [
    "#Generamos el arbol con una profundidad maxima de 6\n",
    "arbol = tree_grow(XTrain, yTrain, level=0, max_depth=6)\n",
    "# Generamos las correspondientes predicciones en el conjunto de test\n",
    "preds_manual = tree_predict(XTest,arbol)"
   ]
  },
  {
   "cell_type": "code",
   "execution_count": 252,
   "metadata": {},
   "outputs": [
    {
     "data": {
      "text/plain": [
       "0.36481751846447896"
      ]
     },
     "execution_count": 252,
     "metadata": {},
     "output_type": "execute_result"
    }
   ],
   "source": [
    "# Calculamos el r2 contra el conjunto de la variable de respuesta de prueba \n",
    "r2 = r2_score(yTest,preds_manual)  \n",
    "r2"
   ]
  },
  {
   "cell_type": "markdown",
   "metadata": {},
   "source": [
    "### Punto 5 - Árbol de decisión con librería\n",
    "En la celda 5 entrene un árbol de decisiones con la **librería sklearn**, usando las variables predictoras \"season\" y \"hour\" y calibre los parámetros que considere conveniente para obtener un mejor desempeño. Recuerde dividir los datos en conjuntos de entrenamiento y validación para esto. Comente el desempeño del modelo con alguna métrica de desempeño de modelos de regresión y compare desempeño con el modelo del punto 3."
   ]
  },
  {
   "cell_type": "code",
   "execution_count": 265,
   "metadata": {},
   "outputs": [
    {
     "data": {
      "text/plain": [
       "0.5415555450329284"
      ]
     },
     "execution_count": 265,
     "metadata": {},
     "output_type": "execute_result"
    }
   ],
   "source": [
    "# Celda 5\n",
    "# Probamos con un arbol con max_depth arbitrario y calculamos el r2\n",
    "from sklearn.tree import DecisionTreeRegressor\n",
    "from sklearn.metrics import r2_score\n",
    "# inicializamos el modelo\n",
    "tree = DecisionTreeRegressor(max_depth=6, random_state = 1)\n",
    "tree.fit(XTrain,yTrain)\n",
    "y_pred = tree.predict(XTest)\n",
    "r2_score(yTest,y_pred)"
   ]
  },
  {
   "cell_type": "code",
   "execution_count": 175,
   "metadata": {},
   "outputs": [
    {
     "data": {
      "text/plain": [
       "0.5499199922671651"
      ]
     },
     "execution_count": 175,
     "metadata": {},
     "output_type": "execute_result"
    }
   ],
   "source": [
    "# Con cross-validation\n",
    "from sklearn.model_selection import cross_val_score\n",
    "from sklearn.model_selection import cross_val_predict\n",
    "r2_scores = cross_val_score(tree, XTrain,yTrain, cv=10, scoring='r2')\n",
    "\n",
    "# Calcula la media de los puntajes de R^2\n",
    "mean_r2_score = np.mean(r2_scores)\n",
    "mean_r2_score"
   ]
  },
  {
   "cell_type": "code",
   "execution_count": 176,
   "metadata": {},
   "outputs": [],
   "source": [
    "#Vemos que el r2 mejora un poco con cv, por lo que lo implementamos en la calibración del modelo\n",
    "# Calibramos el modelo iterando sobre la maxima profundidad del arbol\n",
    "r2s=[]\n",
    "max_depth_range = range(1, 21)\n",
    "for depth in max_depth_range:\n",
    "    tree = DecisionTreeRegressor(max_depth=depth, random_state = 1)\n",
    "    tree.fit(XTrain,yTrain)\n",
    "    y_pred = tree.predict(XTest)\n",
    "    r2_scores = cross_val_score(tree, XTrain,yTrain, cv=10, scoring='r2')\n",
    "    r2s.append(np.mean(r2_scores))"
   ]
  },
  {
   "cell_type": "code",
   "execution_count": 177,
   "metadata": {},
   "outputs": [
    {
     "data": {
      "text/plain": [
       "Text(0.5, 0, 'Profundidad')"
      ]
     },
     "execution_count": 177,
     "metadata": {},
     "output_type": "execute_result"
    },
    {
     "data": {
      "image/png": "[encoded data removed]",
      "text/plain": [
       "<Figure size 432x288 with 1 Axes>"
      ]
     },
     "metadata": {
      "needs_background": "light"
     },
     "output_type": "display_data"
    }
   ],
   "source": [
    "# Vemos la tendencia de las profundidades contra los R2s\n",
    "plt.plot(max_depth_range,r2s)\n",
    "plt.title('R2 vs Profundidad del árbol')\n",
    "plt.ylabel('R2')\n",
    "plt.xlabel('Profundidad')"
   ]
  },
  {
   "cell_type": "code",
   "execution_count": 178,
   "metadata": {},
   "outputs": [
    {
     "name": "stdout",
     "output_type": "stream",
     "text": [
      "10\n"
     ]
    }
   ],
   "source": [
    "# Obtenemos la profundidad que maximiza el r2\n",
    "best_depth = range(1,21)[r2s.index(max(r2s))]\n",
    "print(best_depth)"
   ]
  },
  {
   "cell_type": "code",
   "execution_count": 179,
   "metadata": {},
   "outputs": [
    {
     "data": {
      "text/plain": [
       "0.6075443729593147"
      ]
     },
     "execution_count": 179,
     "metadata": {},
     "output_type": "execute_result"
    }
   ],
   "source": [
    "# Finalmente se ajusta el modelo con esa profundidad\n",
    "tree = DecisionTreeRegressor(max_depth=best_depth, random_state = 1)\n",
    "tree.fit(XTrain,yTrain)\n",
    "y_pred = tree.predict(XTest)\n",
    "r2_scores = cross_val_score(tree, XTrain,yTrain, cv=10, scoring='r2')\n",
    "np.mean(r2_scores)"
   ]
  },
  {
   "cell_type": "markdown",
   "metadata": {},
   "source": [
    "### Análisis\n",
    "Como es posible observar, se obtuvo con las variables predictoras \"season\" y \"hour\" un r2 de 0.607, un desempeño considerablemente mayor que el r2 obtenido por medio de la regresión lineal, donde el valor máximo de desempeño obtenido fue de 0.215. Por esto, se puede concluir que el modelo de árbol de decisión se ajusta mucho mejor a los datos y captura de mejor forma las relaciones no lineales entre las variables predictoras y la variable de respuesta."
   ]
  },
  {
   "cell_type": "markdown",
   "metadata": {},
   "source": [
    "## Parte B - Métodos de ensamblajes\n",
    "En esta parte del taller se usará el conjunto de datos de Popularidad de Noticias Online. El objetivo es predecir si la notica es popular o no, la popularidad está dada por la cantidad de reacciones en redes sociales. Para más detalles puede visitar el siguiente enlace: [datos](https://archive.ics.uci.edu/ml/datasets/online+news+popularity)."
   ]
  },
  {
   "cell_type": "markdown",
   "metadata": {},
   "source": [
    "### Datos popularidad de noticias"
   ]
  },
  {
   "cell_type": "code",
   "execution_count": 253,
   "metadata": {},
   "outputs": [
    {
     "data": {
      "text/html": [
       "<div>\n",
       "<style scoped>\n",
       "    .dataframe tbody tr th:only-of-type {\n",
       "        vertical-align: middle;\n",
       "    }\n",
       "\n",
       "    .dataframe tbody tr th {\n",
       "        vertical-align: top;\n",
       "    }\n",
       "\n",
       "    .dataframe thead th {\n",
       "        text-align: right;\n",
       "    }\n",
       "</style>\n",
       "<table border=\"1\" class=\"dataframe\">\n",
       "  <thead>\n",
       "    <tr style=\"text-align: right;\">\n",
       "      <th></th>\n",
       "      <th>url</th>\n",
       "      <th>timedelta</th>\n",
       "      <th>n_tokens_title</th>\n",
       "      <th>n_tokens_content</th>\n",
       "      <th>n_unique_tokens</th>\n",
       "      <th>n_non_stop_words</th>\n",
       "      <th>n_non_stop_unique_tokens</th>\n",
       "      <th>num_hrefs</th>\n",
       "      <th>num_self_hrefs</th>\n",
       "      <th>num_imgs</th>\n",
       "      <th>...</th>\n",
       "      <th>min_positive_polarity</th>\n",
       "      <th>max_positive_polarity</th>\n",
       "      <th>avg_negative_polarity</th>\n",
       "      <th>min_negative_polarity</th>\n",
       "      <th>max_negative_polarity</th>\n",
       "      <th>title_subjectivity</th>\n",
       "      <th>title_sentiment_polarity</th>\n",
       "      <th>abs_title_subjectivity</th>\n",
       "      <th>abs_title_sentiment_polarity</th>\n",
       "      <th>Popular</th>\n",
       "    </tr>\n",
       "  </thead>\n",
       "  <tbody>\n",
       "    <tr>\n",
       "      <th>0</th>\n",
       "      <td>http://mashable.com/2014/12/10/cia-torture-rep...</td>\n",
       "      <td>28.0</td>\n",
       "      <td>9.0</td>\n",
       "      <td>188.0</td>\n",
       "      <td>0.732620</td>\n",
       "      <td>1.0</td>\n",
       "      <td>0.844262</td>\n",
       "      <td>5.0</td>\n",
       "      <td>1.0</td>\n",
       "      <td>1.0</td>\n",
       "      <td>...</td>\n",
       "      <td>0.200000</td>\n",
       "      <td>0.80</td>\n",
       "      <td>-0.487500</td>\n",
       "      <td>-0.60</td>\n",
       "      <td>-0.250000</td>\n",
       "      <td>0.9</td>\n",
       "      <td>0.8</td>\n",
       "      <td>0.4</td>\n",
       "      <td>0.8</td>\n",
       "      <td>1</td>\n",
       "    </tr>\n",
       "    <tr>\n",
       "      <th>1</th>\n",
       "      <td>http://mashable.com/2013/10/18/bitlock-kicksta...</td>\n",
       "      <td>447.0</td>\n",
       "      <td>7.0</td>\n",
       "      <td>297.0</td>\n",
       "      <td>0.653199</td>\n",
       "      <td>1.0</td>\n",
       "      <td>0.815789</td>\n",
       "      <td>9.0</td>\n",
       "      <td>4.0</td>\n",
       "      <td>1.0</td>\n",
       "      <td>...</td>\n",
       "      <td>0.160000</td>\n",
       "      <td>0.50</td>\n",
       "      <td>-0.135340</td>\n",
       "      <td>-0.40</td>\n",
       "      <td>-0.050000</td>\n",
       "      <td>0.1</td>\n",
       "      <td>-0.1</td>\n",
       "      <td>0.4</td>\n",
       "      <td>0.1</td>\n",
       "      <td>0</td>\n",
       "    </tr>\n",
       "    <tr>\n",
       "      <th>2</th>\n",
       "      <td>http://mashable.com/2013/07/24/google-glass-po...</td>\n",
       "      <td>533.0</td>\n",
       "      <td>11.0</td>\n",
       "      <td>181.0</td>\n",
       "      <td>0.660377</td>\n",
       "      <td>1.0</td>\n",
       "      <td>0.775701</td>\n",
       "      <td>4.0</td>\n",
       "      <td>3.0</td>\n",
       "      <td>1.0</td>\n",
       "      <td>...</td>\n",
       "      <td>0.136364</td>\n",
       "      <td>1.00</td>\n",
       "      <td>0.000000</td>\n",
       "      <td>0.00</td>\n",
       "      <td>0.000000</td>\n",
       "      <td>0.3</td>\n",
       "      <td>1.0</td>\n",
       "      <td>0.2</td>\n",
       "      <td>1.0</td>\n",
       "      <td>0</td>\n",
       "    </tr>\n",
       "    <tr>\n",
       "      <th>3</th>\n",
       "      <td>http://mashable.com/2013/11/21/these-are-the-m...</td>\n",
       "      <td>413.0</td>\n",
       "      <td>12.0</td>\n",
       "      <td>781.0</td>\n",
       "      <td>0.497409</td>\n",
       "      <td>1.0</td>\n",
       "      <td>0.677350</td>\n",
       "      <td>10.0</td>\n",
       "      <td>3.0</td>\n",
       "      <td>1.0</td>\n",
       "      <td>...</td>\n",
       "      <td>0.100000</td>\n",
       "      <td>1.00</td>\n",
       "      <td>-0.195701</td>\n",
       "      <td>-0.40</td>\n",
       "      <td>-0.071429</td>\n",
       "      <td>0.0</td>\n",
       "      <td>0.0</td>\n",
       "      <td>0.5</td>\n",
       "      <td>0.0</td>\n",
       "      <td>0</td>\n",
       "    </tr>\n",
       "    <tr>\n",
       "      <th>4</th>\n",
       "      <td>http://mashable.com/2014/02/11/parking-ticket-...</td>\n",
       "      <td>331.0</td>\n",
       "      <td>8.0</td>\n",
       "      <td>177.0</td>\n",
       "      <td>0.685714</td>\n",
       "      <td>1.0</td>\n",
       "      <td>0.830357</td>\n",
       "      <td>3.0</td>\n",
       "      <td>2.0</td>\n",
       "      <td>1.0</td>\n",
       "      <td>...</td>\n",
       "      <td>0.100000</td>\n",
       "      <td>0.55</td>\n",
       "      <td>-0.175000</td>\n",
       "      <td>-0.25</td>\n",
       "      <td>-0.100000</td>\n",
       "      <td>0.0</td>\n",
       "      <td>0.0</td>\n",
       "      <td>0.5</td>\n",
       "      <td>0.0</td>\n",
       "      <td>0</td>\n",
       "    </tr>\n",
       "  </tbody>\n",
       "</table>\n",
       "<p>5 rows × 61 columns</p>\n",
       "</div>"
      ],
      "text/plain": [
       "                                                 url  timedelta  \\\n",
       "0  http://mashable.com/2014/12/10/cia-torture-rep...       28.0   \n",
       "1  http://mashable.com/2013/10/18/bitlock-kicksta...      447.0   \n",
       "2  http://mashable.com/2013/07/24/google-glass-po...      533.0   \n",
       "3  http://mashable.com/2013/11/21/these-are-the-m...      413.0   \n",
       "4  http://mashable.com/2014/02/11/parking-ticket-...      331.0   \n",
       "\n",
       "   n_tokens_title  n_tokens_content  n_unique_tokens  n_non_stop_words  \\\n",
       "0             9.0             188.0         0.732620               1.0   \n",
       "1             7.0             297.0         0.653199               1.0   \n",
       "2            11.0             181.0         0.660377               1.0   \n",
       "3            12.0             781.0         0.497409               1.0   \n",
       "4             8.0             177.0         0.685714               1.0   \n",
       "\n",
       "   n_non_stop_unique_tokens  num_hrefs  num_self_hrefs  num_imgs  ...  \\\n",
       "0                  0.844262        5.0             1.0       1.0  ...   \n",
       "1                  0.815789        9.0             4.0       1.0  ...   \n",
       "2                  0.775701        4.0             3.0       1.0  ...   \n",
       "3                  0.677350       10.0             3.0       1.0  ...   \n",
       "4                  0.830357        3.0             2.0       1.0  ...   \n",
       "\n",
       "   min_positive_polarity  max_positive_polarity  avg_negative_polarity  \\\n",
       "0               0.200000                   0.80              -0.487500   \n",
       "1               0.160000                   0.50              -0.135340   \n",
       "2               0.136364                   1.00               0.000000   \n",
       "3               0.100000                   1.00              -0.195701   \n",
       "4               0.100000                   0.55              -0.175000   \n",
       "\n",
       "   min_negative_polarity  max_negative_polarity  title_subjectivity  \\\n",
       "0                  -0.60              -0.250000                 0.9   \n",
       "1                  -0.40              -0.050000                 0.1   \n",
       "2                   0.00               0.000000                 0.3   \n",
       "3                  -0.40              -0.071429                 0.0   \n",
       "4                  -0.25              -0.100000                 0.0   \n",
       "\n",
       "   title_sentiment_polarity  abs_title_subjectivity  \\\n",
       "0                       0.8                     0.4   \n",
       "1                      -0.1                     0.4   \n",
       "2                       1.0                     0.2   \n",
       "3                       0.0                     0.5   \n",
       "4                       0.0                     0.5   \n",
       "\n",
       "   abs_title_sentiment_polarity  Popular  \n",
       "0                           0.8        1  \n",
       "1                           0.1        0  \n",
       "2                           1.0        0  \n",
       "3                           0.0        0  \n",
       "4                           0.0        0  \n",
       "\n",
       "[5 rows x 61 columns]"
      ]
     },
     "execution_count": 253,
     "metadata": {},
     "output_type": "execute_result"
    }
   ],
   "source": [
    "# Lectura de la información de archivo .csv\n",
    "df = pd.read_csv('https://raw.githubusercontent.com/davidzarruk/MIAD_ML_NLP_2023/main/datasets/mashable.csv', index_col=0)\n",
    "df.head()"
   ]
  },
  {
   "cell_type": "code",
   "execution_count": 258,
   "metadata": {},
   "outputs": [
    {
     "data": {
      "text/plain": [
       "0.5"
      ]
     },
     "execution_count": 258,
     "metadata": {},
     "output_type": "execute_result"
    }
   ],
   "source": [
    "# Definición variable de interes y variables predictoras\n",
    "X = df.drop(['url', 'Popular'], axis=1)\n",
    "y = df['Popular']\n",
    "y.mean()"
   ]
  },
  {
   "cell_type": "code",
   "execution_count": 259,
   "metadata": {},
   "outputs": [],
   "source": [
    "# División de la muestra en set de entrenamiento y prueba\n",
    "from sklearn.model_selection import train_test_split\n",
    "X_train, X_test, y_train, y_test = train_test_split(X, y, random_state=1)"
   ]
  },
  {
   "cell_type": "markdown",
   "metadata": {},
   "source": [
    "### Punto 6 - Árbol de decisión y regresión logística\n",
    "En la celda 6 construya un árbol de decisión y una regresión logística. Para el árbol calibre al menos un parámetro y evalúe el desempeño de cada modelo usando las métricas de Accuracy y F1-Score."
   ]
  },
  {
   "cell_type": "code",
   "execution_count": 267,
   "metadata": {},
   "outputs": [],
   "source": [
    "# Celda 6\n",
    "from sklearn.tree import DecisionTreeClassifier\n",
    "# Inicializamos el modelo e iteramos sobre distintos valores de profundidad para calibrar el modelo\n",
    "accuracies=[]\n",
    "max_depth_range = range(1, 21)\n",
    "for depth in max_depth_range:\n",
    "    tree = DecisionTreeClassifier(max_depth=depth, random_state = 1)\n",
    "    tree.fit(X_train,y_train)\n",
    "    y_pred = tree.predict(X_test)\n",
    "    accuracy = cross_val_score(tree, X_train,y_train, cv=10, scoring='accuracy')\n",
    "    accuracies.append(np.mean(accuracy))"
   ]
  },
  {
   "cell_type": "code",
   "execution_count": 270,
   "metadata": {},
   "outputs": [
    {
     "data": {
      "text/plain": [
       "Text(0.5, 0, 'Profundidad')"
      ]
     },
     "execution_count": 270,
     "metadata": {},
     "output_type": "execute_result"
    },
    {
     "data": {
      "image/png": "[encoded data removed]",
      "text/plain": [
       "<Figure size 432x288 with 1 Axes>"
      ]
     },
     "metadata": {
      "needs_background": "light"
     },
     "output_type": "display_data"
    }
   ],
   "source": [
    "# Vemos la tendencia de las profundidades contra las accuracies\n",
    "plt.plot(max_depth_range,accuracies)\n",
    "plt.title('Accuracy vs Profundidad del árbol')\n",
    "plt.ylabel('Accuracy')\n",
    "plt.xlabel('Profundidad')"
   ]
  },
  {
   "cell_type": "code",
   "execution_count": 271,
   "metadata": {},
   "outputs": [
    {
     "name": "stdout",
     "output_type": "stream",
     "text": [
      "1\n"
     ]
    }
   ],
   "source": [
    "# Obtenemos la profundidad que maximiza el accuracy\n",
    "best_depth = range(1,21)[accuracies.index(max(accuracies))]\n",
    "print(best_depth)"
   ]
  },
  {
   "cell_type": "code",
   "execution_count": 281,
   "metadata": {},
   "outputs": [],
   "source": [
    "# Finalmente se ajusta el modelo con esa profundidad óptima\n",
    "metrics = ['accuracy','f1']\n",
    "tree = DecisionTreeClassifier(max_depth=best_depth, random_state = 1)\n",
    "tree.fit(X_train,y_train)\n",
    "y_pred = tree.predict(X_test)\n",
    "accuracies = cross_val_score(tree, X_train,y_train, cv=10, scoring='accuracy')\n",
    "f1s = cross_val_score(tree, X_train,y_train, cv=10, scoring='f1')\n",
    "vals_metrics = [np.mean(accuracies),np.mean(f1s)]"
   ]
  },
  {
   "cell_type": "code",
   "execution_count": 284,
   "metadata": {},
   "outputs": [
    {
     "data": {
      "image/png": "[encoded data removed]",
      "text/plain": [
       "<Figure size 432x288 with 1 Axes>"
      ]
     },
     "metadata": {
      "needs_background": "light"
     },
     "output_type": "display_data"
    }
   ],
   "source": [
    "# Grafica comparativa\n",
    "bars = plt.bar(metrics,vals_metrics,color='skyblue')\n",
    "plt.xlabel('Metricas')\n",
    "plt.title('Comparación Metricas')\n",
    "for i in range(len(bars)):\n",
    "    plt.text(bars[i].get_x() + bars[i].get_width()/2,\n",
    "            bars[i].get_height()/2, \n",
    "            round(vals_metrics[i],4),\n",
    "            ha='center',\n",
    "            va='center',\n",
    "            color='black',\n",
    "            fontsize=8)\n",
    "plt.show()"
   ]
  },
  {
   "cell_type": "code",
   "execution_count": 286,
   "metadata": {},
   "outputs": [
    {
     "data": {
      "image/png": "[encoded data removed]",
      "text/plain": [
       "<Figure size 432x288 with 1 Axes>"
      ]
     },
     "metadata": {
      "needs_background": "light"
     },
     "output_type": "display_data"
    }
   ],
   "source": [
    "# Regresión logistica\n",
    "from sklearn.metrics import accuracy_score, f1_score\n",
    "from sklearn.linear_model import LogisticRegression\n",
    "\n",
    "# Inicializar el modelo de regresión logística\n",
    "log_reg = LogisticRegression()\n",
    "\n",
    "# Entrenar el modelo con los datos de entrenamiento\n",
    "log_reg.fit(X_train, y_train)\n",
    "\n",
    "# Hacer predicciones en el conjunto de prueba\n",
    "y_pred = log_reg.predict(X_test)\n",
    "\n",
    "# Calcular las metricas\n",
    "\n",
    "vals_metrics_log = [accuracy_score(y_test, y_pred),f1_score(y_test, y_pred)]\n",
    "\n",
    "# Grafica comparativa\n",
    "bars = plt.bar(metrics,vals_metrics_log,color='skyblue')\n",
    "plt.xlabel('Metricas')\n",
    "plt.title('Comparación Metricas')\n",
    "for i in range(len(bars)):\n",
    "    plt.text(bars[i].get_x() + bars[i].get_width()/2,\n",
    "            bars[i].get_height()/2, \n",
    "            round(vals_metrics_log[i],4),\n",
    "            ha='center',\n",
    "            va='center',\n",
    "            color='black',\n",
    "            fontsize=8)\n",
    "plt.show()"
   ]
  },
  {
   "cell_type": "markdown",
   "metadata": {},
   "source": [
    "### Punto 7 - Votación Mayoritaria\n",
    "En la celda 7 elabore un esamble con la metodología de **Votación mayoritaria** compuesto por 300 muestras bagged donde:\n",
    "\n",
    "-las primeras 100 muestras vienen de árboles de decisión donde max_depth tome un valor de su elección\\\n",
    "-las segundas 100 muestras vienen de árboles de decisión donde min_samples_leaf tome un valor de su elección\\\n",
    "-las últimas 100 muestras vienen de regresiones logísticas\n",
    "\n",
    "Evalúe cada uno de los tres modelos de manera independiente utilizando las métricas de Accuracy y F1-Score, luego evalúe el ensamble de modelos y compare los resultados. \n",
    "\n",
    "Nota: \n",
    "\n",
    "Para este ensamble de 300 modelos, deben hacer votación mayoritaria. Esto lo pueden hacer de distintas maneras. La más \"fácil\" es haciendo la votación \"manualmente\", como se hace a partir del minuto 5:45 del video de Ejemplo práctico de emsablajes en Coursera. Digo que es la más fácil porque si hacen la votación mayoritaria sobre las 300 predicciones van a obtener lo que se espera.\n",
    "\n",
    "Otra opción es: para cada uno de los 3 tipos de modelos, entrenar un ensamble de 100 modelos cada uno. Predecir para cada uno de esos tres ensambles y luego predecir como un ensamble de los 3 ensambles. La cuestión es que la votación mayoritaria al usar los 3 ensambles no necesariamente va a generar el mismo resultado que si hacen la votación mayoritaria directamente sobre los 300 modelos. Entonces, para los que quieran hacer esto, deben hacer ese último cálculo con cuidado.\n",
    "\n",
    "Para los que quieran hacerlo como ensamble de ensambles, digo que se debe hacer el ensamble final con cuidado por lo siguiente. Supongamos que:\n",
    "\n",
    "* para los 100 árboles del primer tipo, la votación mayoritaria es: 55% de los modelos predicen que la clase de una observación es \"1\"\n",
    "* para los 100 árboles del segundo tipo, la votación mayoritaria es: 55% de los modelos predicen que la clase de una observación es \"1\"\n",
    "* para las 100 regresiones logísticas, la votación mayoritaria es: 10% de los modelos predicen que la clase de una observación es \"1\"\n",
    "\n",
    "Si se hace la votación mayoritaria de los 300 modelos, la predicción de esa observación debería ser: (100*55%+100*55%+100*10%)/300 = 40% de los modelos votan porque la predicción debería ser \"1\". Es decir, la predicción del ensamble es \"0\" (dado que menos del 50% de modelos predijo un 1).\n",
    "\n",
    "Sin embargo, si miramos cada ensamble por separado, el primer ensamble predice \"1\", el segundo ensamble predice \"1\" y el último ensamble predice \"0\". Si hago votación mayoritaria sobre esto, la predicción va a ser \"1\", lo cual es distinto a si se hace la votación mayoritaria sobre los 300 modelos."
   ]
  },
  {
   "cell_type": "code",
   "execution_count": 347,
   "metadata": {},
   "outputs": [],
   "source": [
    "# Celda 7\n",
    "# Creación de 300 muestras de bootstrap\n",
    "# cantidad de muestras aleatorias totales a crear \n",
    "n_estimators = 300\n",
    "np.random.seed(1)\n",
    "# cantidad de registros que debe tener cada muestras (los mismos del conjunto de entrenamiento)\n",
    "n_samples = X_train.shape[0]\n",
    "#indices aleatorios con reemplazo para hacer Boostrap\n",
    "samples = [np.random.choice(a=n_samples, size=n_samples, replace=True) for _ in range(n_estimators)]\n",
    "\n",
    "boot1 = samples[:100]\n",
    "boot2 = samples[100:200]\n",
    "boot3 = samples[200:300]\n",
    "# Entrenamiento de 100 arboles con 100 muestras boostrap con max_depth = 1, 100 arboles con min_samples_leaf = 5 y\n",
    "# 100 regresiones logisticas\n",
    "np.random.seed(1) \n",
    "seeds = np.random.randint(1, 10000, size=100)\n",
    "max_depth=1\n",
    "min_samples_leaf=5\n",
    "trees1 = {}\n",
    "trees2 = {}\n",
    "reglog = {}\n",
    "\n",
    "for i in range(len(boot1)):\n",
    "    trees1[i] = DecisionTreeClassifier(max_features=\"sqrt\", max_depth=max_depth, random_state=seeds[i])\n",
    "    trees1[i].fit(X_train.iloc[boot1[i]], y_train.iloc[boot1[i]])\n",
    "for i in range(len(boot2)):\n",
    "    trees2[i] = DecisionTreeClassifier(max_features=\"sqrt\", min_samples_leaf=min_samples_leaf, random_state=seeds[i])\n",
    "    trees2[i].fit(X_train.iloc[boot2[i]], y_train.iloc[boot2[i]])\n",
    "for i in range(len(boot3)):\n",
    "    reglog[i]=LogisticRegression()\n",
    "    reglog[i].fit(X_train.iloc[boot3[i]], y_train.iloc[boot3[i]])"
   ]
  },
  {
   "cell_type": "code",
   "execution_count": 348,
   "metadata": {},
   "outputs": [],
   "source": [
    "# Predicción para los datos del set de test con cada modelo\n",
    "y_pred_df = pd.DataFrame(index=X_test.index, columns=list(range(n_estimators)))\n",
    "for i in range(len(boot1)):\n",
    "    y_pred_df.iloc[:, i] = trees1[i].predict(X_test)\n",
    "for i in range(len(boot2)):\n",
    "    y_pred_df.iloc[:, i+100] = trees2[i].predict(X_test)\n",
    "for i in range(len(boot3)):\n",
    "    y_pred_df.iloc[:, i+200] = reglog[i].predict(X_test)"
   ]
  },
  {
   "cell_type": "code",
   "execution_count": 349,
   "metadata": {},
   "outputs": [
    {
     "name": "stdout",
     "output_type": "stream",
     "text": [
      "Mejor modelo para el arbol con max_depth = 1: 39\n"
     ]
    },
    {
     "data": {
      "image/png": "[encoded data removed]",
      "text/plain": [
       "<Figure size 432x288 with 1 Axes>"
      ]
     },
     "metadata": {
      "needs_background": "light"
     },
     "output_type": "display_data"
    }
   ],
   "source": [
    "#Revisamos el mejor modelo para cada caso de los modelos implementados segun la metrica del f1\n",
    "# Para los modelos de arbol con max_depth = 1\n",
    "f1s1 = []\n",
    "for model in y_pred_df.iloc[:,:100]:\n",
    "    f1s1.append(f1_score(y_pred_df[model], y_test))  \n",
    "    \n",
    "best_model1 = f1s1.index(max(f1s1))\n",
    "print('Mejor modelo para el arbol con max_depth = 1:',best_model1)\n",
    "\n",
    "# Grafica comparativa\n",
    "bars = plt.bar(['accuracy','f1'],\n",
    "               [accuracy_score(y_pred_df[best_model1], y_test),f1_score(y_pred_df[best_model1], y_test)],color='skyblue')\n",
    "plt.xlabel('Metricas')\n",
    "plt.title('Comparación Metricas')\n",
    "for i in range(len(bars)):\n",
    "    plt.text(bars[i].get_x() + bars[i].get_width()/2,\n",
    "            bars[i].get_height()/2, \n",
    "            round([accuracy_score(y_pred_df[best_model1], y_test),f1_score(y_pred_df[best_model1], y_test)][i],4),\n",
    "            ha='center',\n",
    "            va='center',\n",
    "            color='black',\n",
    "            fontsize=8)\n",
    "plt.show()"
   ]
  },
  {
   "cell_type": "code",
   "execution_count": 340,
   "metadata": {},
   "outputs": [
    {
     "name": "stdout",
     "output_type": "stream",
     "text": [
      "Mejor modelo para el arbol con min_samples_leaf=5: 14\n"
     ]
    },
    {
     "data": {
      "image/png": "[encoded data removed]",
      "text/plain": [
       "<Figure size 432x288 with 1 Axes>"
      ]
     },
     "metadata": {
      "needs_background": "light"
     },
     "output_type": "display_data"
    }
   ],
   "source": [
    "# Para los modelos de arbol con min_samples_leaf=5\n",
    "f1s2 = []\n",
    "for model in y_pred_df.iloc[:,100:200]:\n",
    "    f1s2.append(f1_score(y_pred_df[model], y_test))  \n",
    "    \n",
    "best_model2 = f1s2.index(max(f1s2))\n",
    "print('Mejor modelo para el arbol con min_samples_leaf=5:',best_model2)\n",
    "\n",
    "\n",
    "# Grafica comparativa\n",
    "bars = plt.bar(['accuracy','f1'],\n",
    "               [accuracy_score(y_pred_df[best_model2], y_test),f1_score(y_pred_df[best_model2], y_test)],color='skyblue')\n",
    "plt.xlabel('Metricas')\n",
    "plt.title('Comparación Metricas')\n",
    "for i in range(len(bars)):\n",
    "    plt.text(bars[i].get_x() + bars[i].get_width()/2,\n",
    "            bars[i].get_height()/2, \n",
    "            round([accuracy_score(y_pred_df[best_model2], y_test),f1_score(y_pred_df[best_model2], y_test)][i],4),\n",
    "            ha='center',\n",
    "            va='center',\n",
    "            color='black',\n",
    "            fontsize=8)\n",
    "plt.show()"
   ]
  },
  {
   "cell_type": "code",
   "execution_count": 341,
   "metadata": {},
   "outputs": [
    {
     "name": "stdout",
     "output_type": "stream",
     "text": [
      "Mejor modelo para la regresion logistica: 21\n"
     ]
    },
    {
     "data": {
      "image/png": "[encoded data removed]",
      "text/plain": [
       "<Figure size 432x288 with 1 Axes>"
      ]
     },
     "metadata": {
      "needs_background": "light"
     },
     "output_type": "display_data"
    }
   ],
   "source": [
    "# Para los modelos de regresion logistica\n",
    "f1s3 = []\n",
    "for model in y_pred_df.iloc[:,200:300]:\n",
    "    f1s3.append(f1_score(y_pred_df[model], y_test))  \n",
    "    \n",
    "best_model3 = f1s3.index(max(f1s3))\n",
    "print('Mejor modelo para la regresion logistica:',best_model3)\n",
    "\n",
    "\n",
    "# Grafica comparativa\n",
    "bars = plt.bar(['accuracy','f1'],\n",
    "               [accuracy_score(y_pred_df[best_model3], y_test),f1_score(y_pred_df[best_model3], y_test)],color='skyblue')\n",
    "plt.xlabel('Metricas')\n",
    "plt.title('Comparación Metricas')\n",
    "for i in range(len(bars)):\n",
    "    plt.text(bars[i].get_x() + bars[i].get_width()/2,\n",
    "            bars[i].get_height()/2, \n",
    "            round([accuracy_score(y_pred_df[best_model3], y_test),f1_score(y_pred_df[best_model3], y_test)][i],4),\n",
    "            ha='center',\n",
    "            va='center',\n",
    "            color='black',\n",
    "            fontsize=8)\n",
    "plt.show()"
   ]
  },
  {
   "cell_type": "code",
   "execution_count": 344,
   "metadata": {},
   "outputs": [
    {
     "data": {
      "image/png": "[encoded data removed]",
      "text/plain": [
       "<Figure size 432x288 with 1 Axes>"
      ]
     },
     "metadata": {
      "needs_background": "light"
     },
     "output_type": "display_data"
    }
   ],
   "source": [
    "# Votación mayoritaria\n",
    "y_pred = (y_pred_df.sum(axis=1) >= (n_estimators / 2)).astype(np.int)\n",
    "\n",
    "# Desempeño al hacer votación mayoritaria\n",
    "# Grafica comparativa\n",
    "bars = plt.bar(['accuracy','f1'],\n",
    "               [accuracy_score(y_pred, y_test),f1_score(y_pred, y_test)],color='skyblue')\n",
    "plt.xlabel('Metricas')\n",
    "plt.title('Comparación Metricas')\n",
    "for i in range(len(bars)):\n",
    "    plt.text(bars[i].get_x() + bars[i].get_width()/2,\n",
    "            bars[i].get_height()/2, \n",
    "            round([accuracy_score(y_pred, y_test),f1_score(y_pred, y_test)][i],4),\n",
    "            ha='center',\n",
    "            va='center',\n",
    "            color='black',\n",
    "            fontsize=8)\n",
    "plt.show()"
   ]
  },
  {
   "cell_type": "code",
   "execution_count": 346,
   "metadata": {},
   "outputs": [
    {
     "data": {
      "image/png": "[encoded data removed]",
      "text/plain": [
       "<Figure size 432x288 with 1 Axes>"
      ]
     },
     "metadata": {
      "needs_background": "light"
     },
     "output_type": "display_data"
    },
    {
     "data": {
      "image/png": "[encoded data removed]",
      "text/plain": [
       "<Figure size 432x288 with 1 Axes>"
      ]
     },
     "metadata": {
      "needs_background": "light"
     },
     "output_type": "display_data"
    },
    {
     "data": {
      "image/png": "[encoded data removed]",
      "text/plain": [
       "<Figure size 432x288 with 1 Axes>"
      ]
     },
     "metadata": {
      "needs_background": "light"
     },
     "output_type": "display_data"
    },
    {
     "data": {
      "image/png": "[encoded data removed]",
      "text/plain": [
       "<Figure size 432x288 with 1 Axes>"
      ]
     },
     "metadata": {
      "needs_background": "light"
     },
     "output_type": "display_data"
    }
   ],
   "source": [
    "bars = plt.bar(['accuracy','f1'],\n",
    "               [accuracy_score(y_pred_df[best_model1], y_test),f1_score(y_pred_df[best_model1], y_test)],color='skyblue')\n",
    "plt.xlabel('Arbol con Max Depth = 1')\n",
    "plt.title('Comparación Metricas')\n",
    "for i in range(len(bars)):\n",
    "    plt.text(bars[i].get_x() + bars[i].get_width()/2,\n",
    "            bars[i].get_height()/2, \n",
    "            round([accuracy_score(y_pred_df[best_model1], y_test),f1_score(y_pred_df[best_model1], y_test)][i],4),\n",
    "            ha='center',\n",
    "            va='center',\n",
    "            color='black',\n",
    "            fontsize=8)\n",
    "plt.show()\n",
    "\n",
    "bars = plt.bar(['accuracy','f1'],\n",
    "               [accuracy_score(y_pred_df[best_model2], y_test),f1_score(y_pred_df[best_model2], y_test)],color='skyblue')\n",
    "plt.xlabel('Arbol con min_samples_leaf = 5')\n",
    "plt.title('Comparación Metricas')\n",
    "for i in range(len(bars)):\n",
    "    plt.text(bars[i].get_x() + bars[i].get_width()/2,\n",
    "            bars[i].get_height()/2, \n",
    "            round([accuracy_score(y_pred_df[best_model2], y_test),f1_score(y_pred_df[best_model2], y_test)][i],4),\n",
    "            ha='center',\n",
    "            va='center',\n",
    "            color='black',\n",
    "            fontsize=8)\n",
    "plt.show()\n",
    "\n",
    "bars = plt.bar(['accuracy','f1'],\n",
    "               [accuracy_score(y_pred_df[best_model3], y_test),f1_score(y_pred_df[best_model3], y_test)],color='skyblue')\n",
    "plt.xlabel('Regresión Logística')\n",
    "plt.title('Comparación Metricas')\n",
    "for i in range(len(bars)):\n",
    "    plt.text(bars[i].get_x() + bars[i].get_width()/2,\n",
    "            bars[i].get_height()/2, \n",
    "            round([accuracy_score(y_pred_df[best_model3], y_test),f1_score(y_pred_df[best_model3], y_test)][i],4),\n",
    "            ha='center',\n",
    "            va='center',\n",
    "            color='black',\n",
    "            fontsize=8)\n",
    "plt.show()\n",
    "\n",
    "bars = plt.bar(['accuracy','f1'],\n",
    "               [accuracy_score(y_pred, y_test),f1_score(y_pred, y_test)],color='skyblue')\n",
    "plt.xlabel('Ensamble')\n",
    "plt.title('Comparación Metricas')\n",
    "for i in range(len(bars)):\n",
    "    plt.text(bars[i].get_x() + bars[i].get_width()/2,\n",
    "            bars[i].get_height()/2, \n",
    "            round([accuracy_score(y_pred, y_test),f1_score(y_pred, y_test)][i],4),\n",
    "            ha='center',\n",
    "            va='center',\n",
    "            color='black',\n",
    "            fontsize=8)\n",
    "plt.show()"
   ]
  },
  {
   "cell_type": "markdown",
   "metadata": {},
   "source": [
    "### Comparación de resultados\n",
    "\n",
    "Como es posible observar, el ensamble obtuvo un menor desempeño al comparar con las medidas f1 con respecto al mejor árbol con max_depth = 1 y con respecto al mejor árbol con min_samples_leaf = 5. Sin embargo, en cuanto a accuracy es mejor que el mejor árbol con max_depth = 1 y que la mejor regresión logística. Así, es posible concluir que el rendimiento del ensamble es más pobre que el de un algoritmo con min_samples_leaf = 5 y un poco mejor que el algoritmo de regresión logística y tiene mejor accuracy pero peor f1 que un árbol con max_depth = 1. Esto podría explicarse por qué la votación mayoritaria asigna el mismo peso a todos los modelos y por ejemplo, vemos que al hacer esto, se puede ver empobrecido el desempeño general del ensamble cuando se incluyen modelos que individualmente tienen un desempeño considerablemente más pobre como la regresión logística."
   ]
  },
  {
   "cell_type": "markdown",
   "metadata": {},
   "source": [
    "### Punto 8 - Votación Ponderada\n",
    "En la celda 8 elabore un ensamble con la metodología de **Votación ponderada** compuesto por 300 muestras bagged para los mismos tres escenarios del punto 7. Evalúe los modelos utilizando las métricas de Accuracy y F1-Score"
   ]
  },
  {
   "cell_type": "code",
   "execution_count": 352,
   "metadata": {},
   "outputs": [],
   "source": [
    "# Celda 8\n",
    "samples_oob = []\n",
    "\n",
    "n_estimators = 300\n",
    "np.random.seed(1)\n",
    "# cantidad de registros que debe tener cada muestras (los mismos del conjunto de entrenamiento)\n",
    "n_samples = X_train.shape[0]\n",
    "#indices aleatorios con reemplazo para hacer Boostrap\n",
    "samples = [np.random.choice(a=n_samples, size=n_samples, replace=True) for _ in range(n_estimators)]\n",
    "\n",
    "boot1 = samples[:100]\n",
    "boot2 = samples[100:200]\n",
    "boot3 = samples[200:300]\n",
    "# Entrenamiento de 100 arboles con 100 muestras boostrap con max_depth = 1, 100 arboles con min_samples_leaf = 5 y\n",
    "# 100 regresiones logisticas\n",
    "np.random.seed(1) \n",
    "seeds = np.random.randint(1, 10000, size=100)\n",
    "max_depth=1\n",
    "min_samples_leaf=5\n",
    "trees1 = {}\n",
    "trees2 = {}\n",
    "reglog = {}\n",
    "\n",
    "for i in range(len(boot1)):\n",
    "    trees1[i] = DecisionTreeClassifier(max_features=\"sqrt\", max_depth=max_depth, random_state=seeds[i])\n",
    "    trees1[i].fit(X_train.iloc[boot1[i]], y_train.iloc[boot1[i]])\n",
    "for i in range(len(boot2)):\n",
    "    trees2[i] = DecisionTreeClassifier(max_features=\"sqrt\", min_samples_leaf=min_samples_leaf, random_state=seeds[i])\n",
    "    trees2[i].fit(X_train.iloc[boot2[i]], y_train.iloc[boot2[i]])\n",
    "for i in range(len(boot3)):\n",
    "    reglog[i]=LogisticRegression()\n",
    "    reglog[i].fit(X_train.iloc[boot3[i]], y_train.iloc[boot3[i]])\n",
    "\n",
    "\n",
    "# Obtención de las observaciones fuera de la bolsa \"out-of-bag\" para cada muestra\n",
    "for sample in samples:\n",
    "    samples_oob.append(sorted(set(range(n_samples)) - set(sample)))\n",
    "\n",
    "# Estimación de los errores OOB para cada clasificador\n",
    "errors = np.zeros(n_estimators)\n",
    "\n",
    "for i in range(len(trees1)):\n",
    "    y_pred_ = trees1[i].predict(X_train.iloc[samples_oob[i]])\n",
    "    errors[i] = 1 - accuracy_score(y_train.iloc[samples_oob[i]], y_pred_)\n",
    "for i in range(len(trees2)):\n",
    "    y_pred_ = trees2[i].predict(X_train.iloc[samples_oob[i+100]])\n",
    "    errors[i+100] = 1 - accuracy_score(y_train.iloc[samples_oob[i+100]], y_pred_)\n",
    "for i in range(len(reglog)):\n",
    "    y_pred_ = reglog[i].predict(X_train.iloc[samples_oob[i+200]])\n",
    "    errors[i+200] = 1 - accuracy_score(y_train.iloc[samples_oob[i+200]], y_pred_)"
   ]
  },
  {
   "cell_type": "code",
   "execution_count": 353,
   "metadata": {},
   "outputs": [
    {
     "data": {
      "text/plain": [
       "Text(0.5, 1.0, 'OOB error of each tree')"
      ]
     },
     "execution_count": 353,
     "metadata": {},
     "output_type": "execute_result"
    },
    {
     "data": {
      "image/png": "[encoded data removed]",
      "text/plain": [
       "<Figure size 432x288 with 1 Axes>"
      ]
     },
     "metadata": {},
     "output_type": "display_data"
    }
   ],
   "source": [
    "# Visualización de OOB para cada árbol\n",
    "%matplotlib inline\n",
    "import matplotlib.pyplot as plt\n",
    "plt.style.use('fivethirtyeight')\n",
    "\n",
    "plt.scatter(range(n_estimators), errors)\n",
    "plt.xlim([0, n_estimators])\n",
    "plt.title('OOB error of each tree')"
   ]
  },
  {
   "cell_type": "code",
   "execution_count": 355,
   "metadata": {},
   "outputs": [],
   "source": [
    "# Obtención de los pesos alpha de cada modelo de acuerdo al error OOB\n",
    "alpha = (1 - errors) / (1 - errors).sum()"
   ]
  },
  {
   "cell_type": "code",
   "execution_count": 356,
   "metadata": {},
   "outputs": [
    {
     "data": {
      "text/plain": [
       "1483    0.789516\n",
       "2185    0.702677\n",
       "2520    0.717930\n",
       "3721    0.841646\n",
       "3727    0.169389\n",
       "4524    0.710354\n",
       "234     0.082183\n",
       "4735    0.174859\n",
       "5839    0.418729\n",
       "2939    0.737514\n",
       "3053    0.788499\n",
       "867     0.764022\n",
       "276     0.849507\n",
       "5798    0.114114\n",
       "3512    0.833976\n",
       "5789    0.085372\n",
       "3198    0.757076\n",
       "5908    0.876721\n",
       "5718    0.150370\n",
       "2687    0.134284\n",
       "dtype: float64"
      ]
     },
     "execution_count": 356,
     "metadata": {},
     "output_type": "execute_result"
    }
   ],
   "source": [
    "# Ponderación de las predicciones con los pesos alpha\n",
    "weighted_sum_1 = ((y_pred_df) * alpha).sum(axis=1)\n",
    "weighted_sum_1.head(20)"
   ]
  },
  {
   "cell_type": "code",
   "execution_count": 361,
   "metadata": {},
   "outputs": [
    {
     "data": {
      "image/png": "[encoded data removed]",
      "text/plain": [
       "<Figure size 432x288 with 1 Axes>"
      ]
     },
     "metadata": {},
     "output_type": "display_data"
    }
   ],
   "source": [
    "# Desempeño al hacer votación ponderada\n",
    "y_pred = (weighted_sum_1 >= 0.5).astype(np.int)\n",
    "f1_score(y_pred, y_test), accuracy_score(y_pred, y_test)\n",
    "\n",
    "bars = plt.bar(['accuracy','f1'],\n",
    "               [accuracy_score(y_pred, y_test),f1_score(y_pred, y_test)],color='skyblue')\n",
    "plt.xlabel('Ensamble')\n",
    "plt.title('Comparación Metricas')\n",
    "for i in range(len(bars)):\n",
    "    plt.text(bars[i].get_x() + bars[i].get_width()/2,\n",
    "            bars[i].get_height()/2, \n",
    "            round([accuracy_score(y_pred, y_test),f1_score(y_pred, y_test)][i],4),\n",
    "            ha='center',\n",
    "            va='center',\n",
    "            color='black',\n",
    "            fontsize=8)\n",
    "plt.show()"
   ]
  },
  {
   "cell_type": "markdown",
   "metadata": {},
   "source": [
    "### Punto 9 - Comparación y análisis de resultados\n",
    "En la celda 9 comente sobre los resultados obtenidos con las metodologías usadas en los puntos 7 y 8, compare los resultados y enuncie posibles ventajas o desventajas de cada una de ellas."
   ]
  },
  {
   "cell_type": "markdown",
   "metadata": {},
   "source": [
    "Como es posible observar, el resultado del ensamble con votación ponderada es muy similar al obtenido por votación mayoritaria, obteniendo un f1 ligeramente mayor al obtenido por votación mayoritaria y un accuracy ligeramente menor. Sin embargo, ninguno de los 2 ensambles para este contexto presentó una mejoría significativa con respecto a la implementación de los modelos individuales.\n",
    "Ahora, en cuanto a las posibles ventajas y desventajas de estas metodologías:\n",
    "\n",
    "**Votación Ponderada:**\n",
    "\n",
    "**Ventajas:**\n",
    "\n",
    "**Asignación de pesos**: Permite asignar pesos con respecto al rendimiento esperado de los modelos implementados en el ensamble, lo que permite asignar pesos más altos a modelos que vayan a tener mejor desempeño, contribuyendo a que las predicciones se ajusten mejor a modelos que predicen mejor dentro del ensamble, mejorando así el rendimiento general del ensamble.\n",
    "\n",
    "**Desventajas:**\n",
    "\n",
    "**Necesidad de ajuste de pesos:** \n",
    "El proceso de ajuste de pesos implica un paso adicional para el proceso de predicción, esto también implica conocer de antemano el rendimiento de cada modelo.\n",
    "**Propenso a overfitting:** Si los pesos se ajustan demasiado a los datos de entrenamiento, el ensamble puede volverse más propenso al overfitting.\n",
    "\n",
    "**Votación Mayoritaria:**\n",
    "\n",
    "**Ventajas:**\n",
    "\n",
    "**Más simple:** Es fácil de implementar y comprender, ya que simplemente cuenta las predicciones y elige la clase con el mayor número de votos como la predicción final.\n",
    "\n",
    "**Desventajas:**\n",
    "\n",
    "**Ignora el desempeño esperado de los modelos individuales:** No tiene en cuenta el desempeño esperado de cada modelo individualmente. Incluso modelos que se espera que sean poco robustos tienen la misma influencia en la predicción final que los modelos más robustos.\n",
    "\n",
    "**Menor capacidad de ajuste a los datos**: Al tratar todos los modelos por igual, la votación mayoritaria puede tener una capacidad de ajuste inferior a los datos en comparación con la votación ponderada, especialmente si algunos modelos son significativamente menos precisos que otros.\n",
    "\n",
    "En conclusión, la votación ponderada proporciona mayor flexibilidad, pero requiere ajustes adicionales de pesos y puede ser más propensa al overfitting. La votación mayoritaria, es más simple pero puede tener una capacidad de ajuste inferior a los datos y puede ignorar la confiabilidad de los modelos individuales."
   ]
  }
 ],
 "metadata": {
  "kernelspec": {
   "display_name": "Python 3",
   "language": "python",
   "name": "python3"
  },
  "language_info": {
   "codemirror_mode": {
    "name": "ipython",
    "version": 3
   },
   "file_extension": ".py",
   "mimetype": "text/x-python",
   "name": "python",
   "nbconvert_exporter": "python",
   "pygments_lexer": "ipython3",
   "version": "3.8.8"
  }
 },
 "nbformat": 4,
 "nbformat_minor": 4
}
